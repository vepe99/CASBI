{
 "cells": [
  {
   "cell_type": "code",
   "execution_count": 8,
   "metadata": {},
   "outputs": [],
   "source": [
    "\n",
    "import os\n",
    "from os.path import join\n",
    "import yaml\n",
    "import pickle\n",
    "\n",
    "import matplotlib as mpl\n",
    "import matplotlib.pyplot as plt\n",
    "mpl.style.use('./paper.mcstyle')\n",
    "\n",
    "import seaborn as sns\n",
    "import pandas as pd\n",
    "\n",
    "import numpy as np\n",
    "from scipy.stats import norm\n",
    "import torch\n",
    "\n",
    "import ili\n",
    "from ili.dataloaders import StaticNumpyLoader, SBISimulator\n",
    "from ili.validation.runner import ValidationRunner \n",
    "from ili.validation.metrics import PosteriorCoverage, PlotSinglePosterior\n",
    "\n",
    "\n",
    "from CASBI.generator.fff.fff_model import FreeFormFlow\n",
    "from CASBI.utils.create_dataframe import rescale\n"
   ]
  },
  {
   "cell_type": "code",
   "execution_count": 11,
   "metadata": {},
   "outputs": [],
   "source": [
    "data = pd.read_parquet('../../../data/dataframe/dataframe.parquet')\n",
    "data = rescale(data, mean_and_std_path='../../../data/preprocess/mean_and_std.parquet', scale_observations=True, scale_parameter=True, inverse=True)\n",
    "min_feh, max_feh = min(data['feh']), max(data['feh'])\n",
    "min_ofe, max_ofe = min(data['ofe']), max(data['ofe'])\n",
    "data =  data.drop(['gas_log10mass', 'a','redshift', 'mean_metallicity', 'std_metallicity','mean_FeMassFrac', 'std_FeMassFrac', 'mean_OMassFrac', 'std_OMassFrac'], axis=1)\n",
    "conditions = data[data.columns.difference(['feh', 'ofe', 'Galaxy_name'], sort=False)].drop_duplicates()\n",
    "n_halos=3\n",
    "minimum_theta = [conditions[col].values.min() for col in conditions.columns]   \n",
    "maximum_theta = [conditions[col].values.max() for col in conditions.columns]       \n",
    "minimum_theta = np.array(minimum_theta)\n",
    "maximum_theta = np.array(maximum_theta)\n",
    "def repeat_array(arr, repetitions):\n",
    "    return np.repeat(arr, repetitions)\n",
    "repeat_minimum_theta = repeat_array(minimum_theta, n_halos)\n",
    "repeat_maximum_theta = repeat_array(maximum_theta, n_halos) \n",
    "\n",
    "def write_to_yaml(repeat_minimum_theta, repeat_maximum_theta):\n",
    "    # Load the existing data\n",
    "    with open('./training.yaml', 'r') as file:\n",
    "        data = yaml.safe_load(file)\n",
    "\n",
    "    repeat_minimum_theta = repeat_minimum_theta.tolist()\n",
    "    repeat_maximum_theta = repeat_maximum_theta.tolist()\n",
    "    # Update the value\n",
    "    data['prior']['args']['low'] = repeat_minimum_theta\n",
    "    data['prior']['args']['high'] = repeat_maximum_theta\n",
    "\n",
    "    # Write the data back to the file\n",
    "    with open('./training.yaml', 'w') as file:\n",
    "        yaml.safe_dump(data, file)\n",
    "        \n",
    "write_to_yaml(repeat_minimum_theta, repeat_maximum_theta)"
   ]
  },
  {
   "cell_type": "code",
   "execution_count": 4,
   "metadata": {},
   "outputs": [
    {
     "data": {
      "application/vnd.jupyter.widget-view+json": {
       "model_id": "e847186ab1524e53b1a71f298888eb04",
       "version_major": 2,
       "version_minor": 0
      },
      "text/plain": [
       "Drawing 3000 posterior samples:   0%|          | 0/3000 [00:00<?, ?it/s]"
      ]
     },
     "metadata": {},
     "output_type": "display_data"
    }
   ],
   "source": [
    "samples = {}\n",
    "m = 'NPE'\n",
    "with open(join('./', 'toy_NPE_posterior.pkl'), 'rb') as f:\n",
    "    samples[m] = pickle.load(f)\n",
    "posterio_samples = samples['NPE'].sample((3_000,), x=torch.from_numpy(np.load('./x_0.npy')).to('cuda'))"
   ]
  },
  {
   "cell_type": "code",
   "execution_count": 6,
   "metadata": {},
   "outputs": [
    {
     "data": {
      "text/plain": [
       "torch.Size([3000, 9])"
      ]
     },
     "execution_count": 6,
     "metadata": {},
     "output_type": "execute_result"
    }
   ],
   "source": [
    "posterio_samples.shape"
   ]
  },
  {
   "cell_type": "code",
   "execution_count": 10,
   "metadata": {},
   "outputs": [
    {
     "data": {
      "application/vnd.jupyter.widget-view+json": {
       "model_id": "c6befb98ce3b4d3887201baf6882ada6",
       "version_major": 2,
       "version_minor": 0
      },
      "text/plain": [
       "Drawing 10000 posterior samples:   0%|          | 0/10000 [00:00<?, ?it/s]"
      ]
     },
     "metadata": {},
     "output_type": "display_data"
    }
   ],
   "source": [
    "metric = PlotSinglePosterior(\n",
    "    num_samples=10_000, sample_method='direct', \n",
    "    labels = [r'$M_{s, 1}\\ [M_\\odot]$', r'$M_{s, 2}\\ [M_\\odot]$', r'$M_{s, 3}\\ [M_\\odot]$', r'$M_{DM, 1}\\ [M_\\odot]$', r'$M_{DM, 2}\\ [M_\\odot]$', r'$M_{DM, 3}\\ [Gyr]$', r'$\\tau_{1}\\ [Gyr]$', r'$\\tau_{2}\\ [Gyr]$', r'$\\tau_{3}\\ [Gyr]$ '],\n",
    "    out_dir=None\n",
    ")\n",
    "fig = metric(\n",
    "    posterior=samples[m],\n",
    "    x_obs = torch.from_numpy(np.load('./x_0.npy')).to('cuda'), theta_fid=torch.from_numpy(np.load('./theta_0.npy')).to('cuda'),\n",
    ")"
   ]
  },
  {
   "cell_type": "code",
   "execution_count": 12,
   "metadata": {},
   "outputs": [],
   "source": [
    "import numpy as np\n",
    "import pandas as pd\n",
    "from multiprocessing import Pool\n",
    "\n",
    "N_subhalos = 3\n",
    "galaxies_0 = data['Galaxy_name'].sample(N_subhalos)\n",
    "theta_0 =  data[data['Galaxy_name'].isin(galaxies_0)].drop(['feh', 'ofe', 'Galaxy_name'], axis=1).drop_duplicates().values.T.reshape(-1)\n",
    "galaxy_data = data[data['Galaxy_name'].isin(galaxies_0)].values\n",
    "histogram_galaxy, _, _ = np.histogram2d(galaxy_data[:, 0], galaxy_data[:, 1], bins=64, range=[[min_feh, max_feh], [min_ofe, max_ofe]])\n",
    "x_0 =  np.expand_dims(np.log10(histogram_galaxy + 1e-6 +1), axis=0)\n",
    "\n",
    "N=5_000\n",
    "def process_sample(i):\n",
    "    galaxies = data['Galaxy_name'].drop_duplicates().sample(n_halos, random_state=i)\n",
    "    while set(galaxies) == set(galaxies_0):\n",
    "        print('matched galaxies, try again')\n",
    "        galaxies = data['Galaxy_name'].drop_duplicates().sample(n_halos, random_state=i)\n",
    "    parameters =  data[data['Galaxy_name'].isin(galaxies)].drop(['feh', 'ofe', 'Galaxy_name'], axis=1).drop_duplicates().values.T.reshape(-1)\n",
    "    galaxy_data = data[data['Galaxy_name'].isin(galaxies)].values\n",
    "    histogram_galaxy, _, _ = np.histogram2d(galaxy_data[:, 0], galaxy_data[:, 1], bins=64, range=[[min_feh, max_feh], [min_ofe, max_ofe]])\n",
    "    sim_data =  np.expand_dims(np.log10(histogram_galaxy + 1e-6 +1), axis=0)\n",
    "    return parameters, sim_data\n",
    "\n",
    "# Create a pool of workers\n",
    "with Pool() as pool:\n",
    "    # Map the function to the data\n",
    "    results = pool.map(process_sample, range(N))\n",
    "\n",
    "# Unpack the results\n",
    "theta, x = zip(*results)\n",
    "\n",
    "# Convert to numpy arrays\n",
    "theta = torch.from_numpy(np.array(theta)).float()\n",
    "x = torch.from_numpy(np.array(x)).float()"
   ]
  },
  {
   "cell_type": "code",
   "execution_count": 25,
   "metadata": {},
   "outputs": [],
   "source": [
    "np.save('./x_0.npy', x_0)\n",
    "np.save('./theta_0.npy', theta_0)\n",
    "\n",
    "\n",
    "np.save('./x.npy', x.numpy())\n",
    "np.save('./theta.npy', theta.numpy())"
   ]
  }
 ],
 "metadata": {
  "kernelspec": {
   "display_name": "fff",
   "language": "python",
   "name": "python3"
  },
  "language_info": {
   "codemirror_mode": {
    "name": "ipython",
    "version": 3
   },
   "file_extension": ".py",
   "mimetype": "text/x-python",
   "name": "python",
   "nbconvert_exporter": "python",
   "pygments_lexer": "ipython3",
   "version": "3.10.14"
  }
 },
 "nbformat": 4,
 "nbformat_minor": 2
}
