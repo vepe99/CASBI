{
 "cells": [
  {
   "cell_type": "code",
   "execution_count": 1,
   "metadata": {},
   "outputs": [
    {
     "name": "stdout",
     "output_type": "stream",
     "text": [
      "Best parameters: {'model': 'nsf', 'hidden_features': 70, 'num_transforms': 30, 'learning_rate': 0.001, 'output_dim': 128}\n",
      "Best value: 0.39539947774675155\n",
      "Trial 0, value: -1.1936330927742853, params: {'model': 'nsf', 'hidden_features': 200, 'num_transforms': 10, 'learning_rate': 0.0001, 'output_dim': 1024}\n",
      "Trial 1, value: -0.9635272158516778, params: {'model': 'nsf', 'hidden_features': 200, 'num_transforms': 15, 'learning_rate': 1e-05, 'output_dim': 512}\n",
      "Trial 2, value: 0.39539947774675155, params: {'model': 'nsf', 'hidden_features': 70, 'num_transforms': 30, 'learning_rate': 0.001, 'output_dim': 128}\n",
      "Trial 3, value: -0.006437182840373781, params: {'model': 'nsf', 'hidden_features': 70, 'num_transforms': 20, 'learning_rate': 1e-05, 'output_dim': 256}\n",
      "Trial 4, value: 0.27843573027186924, params: {'model': 'nsf', 'hidden_features': 100, 'num_transforms': 20, 'learning_rate': 1e-05, 'output_dim': 512}\n",
      "Trial 5, value: -0.028513231004277866, params: {'model': 'nsf', 'hidden_features': 70, 'num_transforms': 15, 'learning_rate': 0.0001, 'output_dim': 1024}\n",
      "Trial 6, value: -0.6162058644824557, params: {'model': 'nsf', 'hidden_features': 70, 'num_transforms': 15, 'learning_rate': 0.0001, 'output_dim': 128}\n",
      "Trial 7, value: -1.2581434514787462, params: {'model': 'nsf', 'hidden_features': 150, 'num_transforms': 20, 'learning_rate': 0.0001, 'output_dim': 256}\n",
      "Trial 8, value: -0.5980157521035936, params: {'model': 'nsf', 'hidden_features': 200, 'num_transforms': 30, 'learning_rate': 0.0001, 'output_dim': 128}\n",
      "Trial 9, value: -1.083184838294983, params: {'model': 'nsf', 'hidden_features': 150, 'num_transforms': 15, 'learning_rate': 1e-05, 'output_dim': 1024}\n",
      "Trial 10, value: -0.8446971045600044, params: {'model': 'nsf', 'hidden_features': 100, 'num_transforms': 30, 'learning_rate': 0.001, 'output_dim': 128}\n",
      "Trial 11, value: -0.7877092493904961, params: {'model': 'nsf', 'hidden_features': 100, 'num_transforms': 20, 'learning_rate': 0.001, 'output_dim': 512}\n",
      "Trial 12, value: -0.7051202257474264, params: {'model': 'nsf', 'hidden_features': 100, 'num_transforms': 30, 'learning_rate': 0.001, 'output_dim': 512}\n",
      "Trial 13, value: -0.7539791199896071, params: {'model': 'nsf', 'hidden_features': 70, 'num_transforms': 10, 'learning_rate': 0.001, 'output_dim': 512}\n",
      "Trial 14, value: -0.6401722298728095, params: {'model': 'nsf', 'hidden_features': 100, 'num_transforms': 20, 'learning_rate': 1e-05, 'output_dim': 128}\n",
      "Trial 15, value: -1.0818599330054388, params: {'model': 'nsf', 'hidden_features': 70, 'num_transforms': 30, 'learning_rate': 0.001, 'output_dim': 512}\n",
      "Trial 16, value: None, params: {'model': 'nsf', 'hidden_features': 100, 'num_transforms': 20, 'learning_rate': 1e-05, 'output_dim': 128}\n"
     ]
    }
   ],
   "source": [
    "import optuna\n",
    "\n",
    "# Load the study from the SQLite database\n",
    "study_name = 'example_study'\n",
    "storage_name = 'sqlite:///example.db'\n",
    "study = optuna.load_study(study_name=study_name, storage=storage_name)\n",
    "\n",
    "# Get the best parameters\n",
    "best_params = study.best_params\n",
    "print(f\"Best parameters: {best_params}\")\n",
    "\n",
    "# Get the best value\n",
    "best_value = study.best_value\n",
    "print(f\"Best value: {best_value}\")\n",
    "\n",
    "# Get all trials\n",
    "all_trials = study.trials\n",
    "for trial in all_trials:\n",
    "    print(f\"Trial {trial.number}, value: {trial.value}, params: {trial.params}\")"
   ]
  }
 ],
 "metadata": {
  "kernelspec": {
   "display_name": "fff",
   "language": "python",
   "name": "python3"
  },
  "language_info": {
   "codemirror_mode": {
    "name": "ipython",
    "version": 3
   },
   "file_extension": ".py",
   "mimetype": "text/x-python",
   "name": "python",
   "nbconvert_exporter": "python",
   "pygments_lexer": "ipython3",
   "version": "3.10.14"
  }
 },
 "nbformat": 4,
 "nbformat_minor": 2
}
