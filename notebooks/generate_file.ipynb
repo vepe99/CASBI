{
 "cells": [
  {
   "cell_type": "code",
   "execution_count": 9,
   "metadata": {},
   "outputs": [],
   "source": [
    "import CASBI\n",
    "import CASBI.utils as utils\n",
    "\n",
    "import glob"
   ]
  },
  {
   "cell_type": "code",
   "execution_count": 11,
   "metadata": {},
   "outputs": [
    {
     "data": {
      "application/vnd.jupyter.widget-view+json": {
       "model_id": "f4990ac35e0e4aa68df83af6b1618ab5",
       "version_major": 2,
       "version_minor": 0
      },
      "text/plain": [
       "  0%|          | 0/6376 [00:00<?, ?it/s]"
      ]
     },
     "metadata": {},
     "output_type": "display_data"
    },
    {
     "name": "stdout",
     "output_type": "stream",
     "text": [
      "Not formed stars yet\n"
     ]
    },
    {
     "name": "stderr",
     "output_type": "stream",
     "text": [
      "pynbody.halo : An error occurred while reading substructure file. Falling back to using the halo info.\n",
      "pynbody.halo : An error occurred while reading substructure file. Falling back to using the halo info.\n",
      "pynbody.halo : An error occurred while reading substructure file. Falling back to using the halo info.\n",
      "pynbody.halo : An error occurred while reading substructure file. Falling back to using the halo info.\n",
      "pynbody.halo : An error occurred while reading substructure file. Falling back to using the halo info.\n",
      "pynbody.halo : An error occurred while reading substructure file. Falling back to using the halo info.\n",
      "pynbody.halo : An error occurred while reading substructure file. Falling back to using the halo info.\n",
      "pynbody.halo : An error occurred while reading substructure file. Falling back to using the halo info.\n",
      "pynbody.halo : An error occurred while reading substructure file. Falling back to using the halo info.\n",
      "pynbody.halo : An error occurred while reading substructure file. Falling back to using the halo info.\n",
      "pynbody.halo : An error occurred while reading substructure file. Falling back to using the halo info.\n",
      "pynbody.halo : An error occurred while reading substructure file. Falling back to using the halo info.\n",
      "pynbody.halo : An error occurred while reading substructure file. Falling back to using the halo info.\n",
      "pynbody.halo : An error occurred while reading substructure file. Falling back to using the halo info.\n",
      "pynbody.halo : An error occurred while reading substructure file. Falling back to using the halo info.\n",
      "pynbody.halo : An error occurred while reading substructure file. Falling back to using the halo info.\n",
      "pynbody.halo : An error occurred while reading substructure file. Falling back to using the halo info.\n",
      "pynbody.halo : An error occurred while reading substructure file. Falling back to using the halo info.\n",
      "pynbody.halo : An error occurred while reading substructure file. Falling back to using the halo info.\n",
      "pynbody.halo : An error occurred while reading substructure file. Falling back to using the halo info.\n",
      "pynbody.halo : An error occurred while reading substructure file. Falling back to using the halo info.\n",
      "pynbody.halo : An error occurred while reading substructure file. Falling back to using the halo info.\n",
      "pynbody.halo : An error occurred while reading substructure file. Falling back to using the halo info.\n",
      "pynbody.halo : An error occurred while reading substructure file. Falling back to using the halo info.\n",
      "pynbody.halo : An error occurred while reading substructure file. Falling back to using the halo info.\n",
      "pynbody.halo : An error occurred while reading substructure file. Falling back to using the halo info.\n",
      "pynbody.halo : An error occurred while reading substructure file. Falling back to using the halo info.\n",
      "pynbody.halo : An error occurred while reading substructure file. Falling back to using the halo info.\n",
      "pynbody.halo : An error occurred while reading substructure file. Falling back to using the halo info.\n",
      "pynbody.halo : An error occurred while reading substructure file. Falling back to using the halo info.\n",
      "pynbody.halo : An error occurred while reading substructure file. Falling back to using the halo info.\n",
      "pynbody.halo : An error occurred while reading substructure file. Falling back to using the halo info.\n",
      "pynbody.halo : An error occurred while reading substructure file. Falling back to using the halo info.\n",
      "pynbody.halo : An error occurred while reading substructure file. Falling back to using the halo info.\n",
      "pynbody.halo : An error occurred while reading substructure file. Falling back to using the halo info.\n",
      "pynbody.halo : An error occurred while reading substructure file. Falling back to using the halo info.\n",
      "pynbody.halo : An error occurred while reading substructure file. Falling back to using the halo info.\n",
      "pynbody.halo : An error occurred while reading substructure file. Falling back to using the halo info.\n",
      "pynbody.halo : An error occurred while reading substructure file. Falling back to using the halo info.\n",
      "pynbody.halo : An error occurred while reading substructure file. Falling back to using the halo info.\n",
      "pynbody.halo : An error occurred while reading substructure file. Falling back to using the halo info.\n",
      "pynbody.halo : An error occurred while reading substructure file. Falling back to using the halo info.\n",
      "pynbody.halo : An error occurred while reading substructure file. Falling back to using the halo info.\n",
      "pynbody.halo : An error occurred while reading substructure file. Falling back to using the halo info.\n",
      "pynbody.halo : An error occurred while reading substructure file. Falling back to using the halo info.\n",
      "pynbody.halo : An error occurred while reading substructure file. Falling back to using the halo info.\n",
      "pynbody.halo : An error occurred while reading substructure file. Falling back to using the halo info.\n",
      "pynbody.halo : An error occurred while reading substructure file. Falling back to using the halo info.\n",
      "pynbody.halo : An error occurred while reading substructure file. Falling back to using the halo info.\n",
      "pynbody.halo : An error occurred while reading substructure file. Falling back to using the halo info.\n",
      "pynbody.halo : An error occurred while reading substructure file. Falling back to using the halo info.\n",
      "pynbody.halo : An error occurred while reading substructure file. Falling back to using the halo info.\n",
      "pynbody.halo : An error occurred while reading substructure file. Falling back to using the halo info.\n",
      "pynbody.halo : An error occurred while reading substructure file. Falling back to using the halo info.\n",
      "pynbody.halo : An error occurred while reading substructure file. Falling back to using the halo info.\n",
      "pynbody.halo : An error occurred while reading substructure file. Falling back to using the halo info.\n",
      "pynbody.halo : An error occurred while reading substructure file. Falling back to using the halo info.\n",
      "pynbody.halo : An error occurred while reading substructure file. Falling back to using the halo info.\n",
      "pynbody.halo : An error occurred while reading substructure file. Falling back to using the halo info.\n",
      "pynbody.halo : An error occurred while reading substructure file. Falling back to using the halo info.\n",
      "pynbody.halo : An error occurred while reading substructure file. Falling back to using the halo info.\n",
      "pynbody.halo : An error occurred while reading substructure file. Falling back to using the halo info.\n",
      "pynbody.halo : An error occurred while reading substructure file. Falling back to using the halo info.\n"
     ]
    },
    {
     "name": "stdout",
     "output_type": "stream",
     "text": [
      "Not formed stars yet\n"
     ]
    },
    {
     "name": "stderr",
     "output_type": "stream",
     "text": [
      "pynbody.halo : An error occurred while reading substructure file. Falling back to using the halo info.\n",
      "pynbody.halo : An error occurred while reading substructure file. Falling back to using the halo info.\n",
      "pynbody.halo : An error occurred while reading substructure file. Falling back to using the halo info.\n",
      "pynbody.halo : An error occurred while reading substructure file. Falling back to using the halo info.\n",
      "pynbody.halo : An error occurred while reading substructure file. Falling back to using the halo info.\n",
      "pynbody.halo : An error occurred while reading substructure file. Falling back to using the halo info.\n",
      "pynbody.halo : An error occurred while reading substructure file. Falling back to using the halo info.\n",
      "pynbody.halo : An error occurred while reading substructure file. Falling back to using the halo info.\n",
      "pynbody.halo : An error occurred while reading substructure file. Falling back to using the halo info.\n",
      "pynbody.halo : An error occurred while reading substructure file. Falling back to using the halo info.\n",
      "pynbody.halo : An error occurred while reading substructure file. Falling back to using the halo info.\n",
      "pynbody.halo : An error occurred while reading substructure file. Falling back to using the halo info.\n",
      "pynbody.halo : An error occurred while reading substructure file. Falling back to using the halo info.\n",
      "pynbody.halo : An error occurred while reading substructure file. Falling back to using the halo info.\n",
      "pynbody.halo : An error occurred while reading substructure file. Falling back to using the halo info.\n",
      "pynbody.halo : An error occurred while reading substructure file. Falling back to using the halo info.\n",
      "pynbody.halo : An error occurred while reading substructure file. Falling back to using the halo info.\n",
      "pynbody.halo : An error occurred while reading substructure file. Falling back to using the halo info.\n",
      "pynbody.halo : An error occurred while reading substructure file. Falling back to using the halo info.\n",
      "pynbody.halo : An error occurred while reading substructure file. Falling back to using the halo info.\n",
      "pynbody.halo : An error occurred while reading substructure file. Falling back to using the halo info.\n",
      "pynbody.halo : An error occurred while reading substructure file. Falling back to using the halo info.\n",
      "pynbody.halo : An error occurred while reading substructure file. Falling back to using the halo info.\n",
      "pynbody.halo : An error occurred while reading substructure file. Falling back to using the halo info.\n",
      "pynbody.halo : An error occurred while reading substructure file. Falling back to using the halo info.\n",
      "pynbody.halo : An error occurred while reading substructure file. Falling back to using the halo info.\n",
      "pynbody.halo : An error occurred while reading substructure file. Falling back to using the halo info.\n",
      "pynbody.halo : An error occurred while reading substructure file. Falling back to using the halo info.\n",
      "pynbody.halo : An error occurred while reading substructure file. Falling back to using the halo info.\n",
      "pynbody.halo : An error occurred while reading substructure file. Falling back to using the halo info.\n",
      "pynbody.halo : An error occurred while reading substructure file. Falling back to using the halo info.\n",
      "pynbody.halo : An error occurred while reading substructure file. Falling back to using the halo info.\n",
      "pynbody.halo : An error occurred while reading substructure file. Falling back to using the halo info.\n",
      "pynbody.halo : An error occurred while reading substructure file. Falling back to using the halo info.\n",
      "pynbody.halo : An error occurred while reading substructure file. Falling back to using the halo info.\n",
      "pynbody.halo : An error occurred while reading substructure file. Falling back to using the halo info.\n",
      "pynbody.halo : An error occurred while reading substructure file. Falling back to using the halo info.\n",
      "pynbody.halo : An error occurred while reading substructure file. Falling back to using the halo info.\n",
      "pynbody.halo : An error occurred while reading substructure file. Falling back to using the halo info.\n",
      "pynbody.halo : An error occurred while reading substructure file. Falling back to using the halo info.\n",
      "pynbody.halo : An error occurred while reading substructure file. Falling back to using the halo info.\n",
      "pynbody.halo : An error occurred while reading substructure file. Falling back to using the halo info.\n",
      "pynbody.halo : An error occurred while reading substructure file. Falling back to using the halo info.\n",
      "pynbody.halo : An error occurred while reading substructure file. Falling back to using the halo info.\n",
      "pynbody.halo : An error occurred while reading substructure file. Falling back to using the halo info.\n",
      "pynbody.halo : An error occurred while reading substructure file. Falling back to using the halo info.\n",
      "pynbody.halo : An error occurred while reading substructure file. Falling back to using the halo info.\n",
      "pynbody.halo : An error occurred while reading substructure file. Falling back to using the halo info.\n",
      "pynbody.halo : An error occurred while reading substructure file. Falling back to using the halo info.\n",
      "pynbody.halo : An error occurred while reading substructure file. Falling back to using the halo info.\n",
      "pynbody.halo : An error occurred while reading substructure file. Falling back to using the halo info.\n",
      "pynbody.halo : An error occurred while reading substructure file. Falling back to using the halo info.\n",
      "pynbody.halo : An error occurred while reading substructure file. Falling back to using the halo info.\n",
      "pynbody.halo : An error occurred while reading substructure file. Falling back to using the halo info.\n",
      "pynbody.halo : An error occurred while reading substructure file. Falling back to using the halo info.\n",
      "pynbody.halo : An error occurred while reading substructure file. Falling back to using the halo info.\n",
      "pynbody.halo : An error occurred while reading substructure file. Falling back to using the halo info.\n",
      "pynbody.halo : An error occurred while reading substructure file. Falling back to using the halo info.\n",
      "pynbody.halo : An error occurred while reading substructure file. Falling back to using the halo info.\n",
      "pynbody.halo : An error occurred while reading substructure file. Falling back to using the halo info.\n",
      "pynbody.halo : An error occurred while reading substructure file. Falling back to using the halo info.\n"
     ]
    },
    {
     "name": "stdout",
     "output_type": "stream",
     "text": [
      "Not formed stars yet\n"
     ]
    },
    {
     "name": "stderr",
     "output_type": "stream",
     "text": [
      "pynbody.halo : An error occurred while reading substructure file. Falling back to using the halo info.\n",
      "pynbody.halo : An error occurred while reading substructure file. Falling back to using the halo info.\n",
      "pynbody.halo : An error occurred while reading substructure file. Falling back to using the halo info.\n",
      "pynbody.halo : An error occurred while reading substructure file. Falling back to using the halo info.\n",
      "pynbody.halo : An error occurred while reading substructure file. Falling back to using the halo info.\n",
      "pynbody.halo : An error occurred while reading substructure file. Falling back to using the halo info.\n",
      "pynbody.halo : An error occurred while reading substructure file. Falling back to using the halo info.\n",
      "pynbody.halo : An error occurred while reading substructure file. Falling back to using the halo info.\n",
      "pynbody.halo : An error occurred while reading substructure file. Falling back to using the halo info.\n",
      "pynbody.halo : An error occurred while reading substructure file. Falling back to using the halo info.\n",
      "pynbody.halo : An error occurred while reading substructure file. Falling back to using the halo info.\n",
      "pynbody.halo : An error occurred while reading substructure file. Falling back to using the halo info.\n",
      "pynbody.halo : An error occurred while reading substructure file. Falling back to using the halo info.\n",
      "pynbody.halo : An error occurred while reading substructure file. Falling back to using the halo info.\n",
      "pynbody.halo : An error occurred while reading substructure file. Falling back to using the halo info.\n",
      "pynbody.halo : An error occurred while reading substructure file. Falling back to using the halo info.\n",
      "pynbody.halo : An error occurred while reading substructure file. Falling back to using the halo info.\n",
      "pynbody.halo : An error occurred while reading substructure file. Falling back to using the halo info.\n",
      "pynbody.halo : An error occurred while reading substructure file. Falling back to using the halo info.\n",
      "pynbody.halo : An error occurred while reading substructure file. Falling back to using the halo info.\n",
      "pynbody.halo : An error occurred while reading substructure file. Falling back to using the halo info.\n",
      "pynbody.halo : An error occurred while reading substructure file. Falling back to using the halo info.\n",
      "pynbody.halo : An error occurred while reading substructure file. Falling back to using the halo info.\n",
      "pynbody.halo : An error occurred while reading substructure file. Falling back to using the halo info.\n",
      "pynbody.halo : An error occurred while reading substructure file. Falling back to using the halo info.\n",
      "pynbody.halo : An error occurred while reading substructure file. Falling back to using the halo info.\n",
      "pynbody.halo : An error occurred while reading substructure file. Falling back to using the halo info.\n",
      "pynbody.halo : An error occurred while reading substructure file. Falling back to using the halo info.\n",
      "pynbody.halo : An error occurred while reading substructure file. Falling back to using the halo info.\n",
      "pynbody.halo : An error occurred while reading substructure file. Falling back to using the halo info.\n",
      "pynbody.halo : An error occurred while reading substructure file. Falling back to using the halo info.\n",
      "pynbody.halo : An error occurred while reading substructure file. Falling back to using the halo info.\n",
      "pynbody.halo : An error occurred while reading substructure file. Falling back to using the halo info.\n",
      "pynbody.halo : An error occurred while reading substructure file. Falling back to using the halo info.\n",
      "pynbody.halo : An error occurred while reading substructure file. Falling back to using the halo info.\n",
      "pynbody.halo : An error occurred while reading substructure file. Falling back to using the halo info.\n",
      "pynbody.halo : An error occurred while reading substructure file. Falling back to using the halo info.\n",
      "pynbody.halo : An error occurred while reading substructure file. Falling back to using the halo info.\n",
      "pynbody.halo : An error occurred while reading substructure file. Falling back to using the halo info.\n",
      "pynbody.halo : An error occurred while reading substructure file. Falling back to using the halo info.\n",
      "pynbody.halo : An error occurred while reading substructure file. Falling back to using the halo info.\n",
      "pynbody.halo : An error occurred while reading substructure file. Falling back to using the halo info.\n",
      "pynbody.halo : An error occurred while reading substructure file. Falling back to using the halo info.\n",
      "pynbody.halo : An error occurred while reading substructure file. Falling back to using the halo info.\n",
      "pynbody.halo : An error occurred while reading substructure file. Falling back to using the halo info.\n",
      "pynbody.halo : An error occurred while reading substructure file. Falling back to using the halo info.\n",
      "pynbody.halo : An error occurred while reading substructure file. Falling back to using the halo info.\n",
      "pynbody.halo : An error occurred while reading substructure file. Falling back to using the halo info.\n",
      "pynbody.halo : An error occurred while reading substructure file. Falling back to using the halo info.\n",
      "pynbody.halo : An error occurred while reading substructure file. Falling back to using the halo info.\n",
      "pynbody.halo : An error occurred while reading substructure file. Falling back to using the halo info.\n",
      "pynbody.halo : An error occurred while reading substructure file. Falling back to using the halo info.\n",
      "pynbody.halo : An error occurred while reading substructure file. Falling back to using the halo info.\n",
      "pynbody.halo : An error occurred while reading substructure file. Falling back to using the halo info.\n",
      "pynbody.halo : An error occurred while reading substructure file. Falling back to using the halo info.\n",
      "pynbody.halo : An error occurred while reading substructure file. Falling back to using the halo info.\n",
      "pynbody.halo : An error occurred while reading substructure file. Falling back to using the halo info.\n",
      "pynbody.halo : An error occurred while reading substructure file. Falling back to using the halo info.\n",
      "pynbody.halo : An error occurred while reading substructure file. Falling back to using the halo info.\n",
      "pynbody.halo : An error occurred while reading substructure file. Falling back to using the halo info.\n",
      "pynbody.halo : An error occurred while reading substructure file. Falling back to using the halo info.\n",
      "pynbody.halo : An error occurred while reading substructure file. Falling back to using the halo info.\n",
      "/home/giuseppe/micromamba/envs/test/lib/python3.10/site-packages/pynbody/halo/ahf.py:157: UserWarning: Unable to write AHF_fpos file; performance will be reduced. Pass write_fpos=False to halo constructor to suppress this message.\n",
      "  warnings.warn(\"Unable to write AHF_fpos file; performance will be reduced. Pass write_fpos=False to halo constructor to suppress this message.\")\n"
     ]
    },
    {
     "name": "stdout",
     "output_type": "stream",
     "text": [
      "Not formed stars yet\n"
     ]
    },
    {
     "name": "stderr",
     "output_type": "stream",
     "text": [
      "pynbody.halo : An error occurred while reading substructure file. Falling back to using the halo info.\n"
     ]
    },
    {
     "name": "stdout",
     "output_type": "stream",
     "text": [
      "Not formed stars yet\n",
      "Not formed stars yet\n"
     ]
    },
    {
     "name": "stderr",
     "output_type": "stream",
     "text": [
      "pynbody.halo : An error occurred while reading substructure file. Falling back to using the halo info.\n"
     ]
    },
    {
     "name": "stdout",
     "output_type": "stream",
     "text": [
      "Not formed stars yet\n"
     ]
    },
    {
     "name": "stderr",
     "output_type": "stream",
     "text": [
      "pynbody.halo : An error occurred while reading substructure file. Falling back to using the halo info.\n"
     ]
    },
    {
     "name": "stdout",
     "output_type": "stream",
     "text": [
      "Not formed stars yet\n"
     ]
    },
    {
     "name": "stderr",
     "output_type": "stream",
     "text": [
      "pynbody.halo : An error occurred while reading substructure file. Falling back to using the halo info.\n"
     ]
    },
    {
     "name": "stdout",
     "output_type": "stream",
     "text": [
      "Not formed stars yet\n"
     ]
    },
    {
     "name": "stderr",
     "output_type": "stream",
     "text": [
      "pynbody.halo : An error occurred while reading substructure file. Falling back to using the halo info.\n"
     ]
    },
    {
     "name": "stdout",
     "output_type": "stream",
     "text": [
      "Not formed stars yet\n"
     ]
    },
    {
     "name": "stderr",
     "output_type": "stream",
     "text": [
      "pynbody.halo : An error occurred while reading substructure file. Falling back to using the halo info.\n"
     ]
    },
    {
     "name": "stdout",
     "output_type": "stream",
     "text": [
      "Not formed stars yet\n"
     ]
    },
    {
     "name": "stderr",
     "output_type": "stream",
     "text": [
      "pynbody.halo : An error occurred while reading substructure file. Falling back to using the halo info.\n"
     ]
    },
    {
     "name": "stdout",
     "output_type": "stream",
     "text": [
      "Not formed stars yet\n"
     ]
    },
    {
     "name": "stderr",
     "output_type": "stream",
     "text": [
      "pynbody.halo : An error occurred while reading substructure file. Falling back to using the halo info.\n"
     ]
    },
    {
     "name": "stdout",
     "output_type": "stream",
     "text": [
      "Not formed stars yet\n"
     ]
    },
    {
     "name": "stderr",
     "output_type": "stream",
     "text": [
      "pynbody.halo : An error occurred while reading substructure file. Falling back to using the halo info.\n"
     ]
    },
    {
     "name": "stdout",
     "output_type": "stream",
     "text": [
      "Not formed stars yet\n"
     ]
    },
    {
     "name": "stderr",
     "output_type": "stream",
     "text": [
      "pynbody.halo : An error occurred while reading substructure file. Falling back to using the halo info.\n"
     ]
    },
    {
     "name": "stdout",
     "output_type": "stream",
     "text": [
      "Not formed stars yet\n"
     ]
    },
    {
     "name": "stderr",
     "output_type": "stream",
     "text": [
      "pynbody.halo : An error occurred while reading substructure file. Falling back to using the halo info.\n"
     ]
    },
    {
     "name": "stdout",
     "output_type": "stream",
     "text": [
      "Not formed stars yet\n"
     ]
    },
    {
     "name": "stderr",
     "output_type": "stream",
     "text": [
      "pynbody.halo : An error occurred while reading substructure file. Falling back to using the halo info.\n"
     ]
    },
    {
     "name": "stdout",
     "output_type": "stream",
     "text": [
      "Not formed stars yet\n"
     ]
    },
    {
     "name": "stderr",
     "output_type": "stream",
     "text": [
      "pynbody.halo : An error occurred while reading substructure file. Falling back to using the halo info.\n"
     ]
    },
    {
     "name": "stdout",
     "output_type": "stream",
     "text": [
      "Not formed stars yet\n"
     ]
    },
    {
     "name": "stderr",
     "output_type": "stream",
     "text": [
      "pynbody.halo : An error occurred while reading substructure file. Falling back to using the halo info.\n"
     ]
    },
    {
     "name": "stdout",
     "output_type": "stream",
     "text": [
      "Not formed stars yet\n"
     ]
    },
    {
     "name": "stderr",
     "output_type": "stream",
     "text": [
      "pynbody.halo : An error occurred while reading substructure file. Falling back to using the halo info.\n"
     ]
    },
    {
     "name": "stdout",
     "output_type": "stream",
     "text": [
      "Not formed stars yet\n"
     ]
    },
    {
     "name": "stderr",
     "output_type": "stream",
     "text": [
      "pynbody.halo : An error occurred while reading substructure file. Falling back to using the halo info.\n"
     ]
    },
    {
     "name": "stdout",
     "output_type": "stream",
     "text": [
      "Not formed stars yet\n"
     ]
    },
    {
     "name": "stderr",
     "output_type": "stream",
     "text": [
      "pynbody.halo : An error occurred while reading substructure file. Falling back to using the halo info.\n"
     ]
    },
    {
     "name": "stdout",
     "output_type": "stream",
     "text": [
      "Not formed stars yet\n"
     ]
    },
    {
     "name": "stderr",
     "output_type": "stream",
     "text": [
      "pynbody.halo : An error occurred while reading substructure file. Falling back to using the halo info.\n"
     ]
    },
    {
     "name": "stdout",
     "output_type": "stream",
     "text": [
      "Not formed stars yet\n"
     ]
    },
    {
     "name": "stderr",
     "output_type": "stream",
     "text": [
      "pynbody.halo : An error occurred while reading substructure file. Falling back to using the halo info.\n"
     ]
    },
    {
     "name": "stdout",
     "output_type": "stream",
     "text": [
      "Not formed stars yet\n"
     ]
    },
    {
     "name": "stderr",
     "output_type": "stream",
     "text": [
      "pynbody.halo : An error occurred while reading substructure file. Falling back to using the halo info.\n"
     ]
    },
    {
     "name": "stdout",
     "output_type": "stream",
     "text": [
      "Not formed stars yet\n"
     ]
    },
    {
     "name": "stderr",
     "output_type": "stream",
     "text": [
      "pynbody.halo : An error occurred while reading substructure file. Falling back to using the halo info.\n"
     ]
    },
    {
     "name": "stdout",
     "output_type": "stream",
     "text": [
      "Not formed stars yet\n"
     ]
    },
    {
     "name": "stderr",
     "output_type": "stream",
     "text": [
      "pynbody.halo : An error occurred while reading substructure file. Falling back to using the halo info.\n"
     ]
    },
    {
     "name": "stdout",
     "output_type": "stream",
     "text": [
      "Not formed stars yet\n"
     ]
    },
    {
     "name": "stderr",
     "output_type": "stream",
     "text": [
      "pynbody.halo : An error occurred while reading substructure file. Falling back to using the halo info.\n"
     ]
    },
    {
     "name": "stdout",
     "output_type": "stream",
     "text": [
      "Not formed stars yet\n"
     ]
    },
    {
     "name": "stderr",
     "output_type": "stream",
     "text": [
      "pynbody.halo : An error occurred while reading substructure file. Falling back to using the halo info.\n"
     ]
    },
    {
     "name": "stdout",
     "output_type": "stream",
     "text": [
      "Not formed stars yet\n"
     ]
    },
    {
     "name": "stderr",
     "output_type": "stream",
     "text": [
      "pynbody.halo : An error occurred while reading substructure file. Falling back to using the halo info.\n"
     ]
    },
    {
     "name": "stdout",
     "output_type": "stream",
     "text": [
      "Not formed stars yet\n"
     ]
    },
    {
     "name": "stderr",
     "output_type": "stream",
     "text": [
      "pynbody.halo : An error occurred while reading substructure file. Falling back to using the halo info.\n"
     ]
    },
    {
     "name": "stdout",
     "output_type": "stream",
     "text": [
      "Not formed stars yet\n"
     ]
    },
    {
     "name": "stderr",
     "output_type": "stream",
     "text": [
      "pynbody.halo : An error occurred while reading substructure file. Falling back to using the halo info.\n"
     ]
    },
    {
     "name": "stdout",
     "output_type": "stream",
     "text": [
      "Not formed stars yet\n"
     ]
    },
    {
     "name": "stderr",
     "output_type": "stream",
     "text": [
      "pynbody.halo : An error occurred while reading substructure file. Falling back to using the halo info.\n"
     ]
    },
    {
     "name": "stdout",
     "output_type": "stream",
     "text": [
      "Not formed stars yet\n"
     ]
    },
    {
     "name": "stderr",
     "output_type": "stream",
     "text": [
      "pynbody.halo : An error occurred while reading substructure file. Falling back to using the halo info.\n"
     ]
    },
    {
     "name": "stdout",
     "output_type": "stream",
     "text": [
      "Not formed stars yet\n"
     ]
    },
    {
     "name": "stderr",
     "output_type": "stream",
     "text": [
      "pynbody.halo : An error occurred while reading substructure file. Falling back to using the halo info.\n"
     ]
    },
    {
     "name": "stdout",
     "output_type": "stream",
     "text": [
      "Not formed stars yet\n"
     ]
    },
    {
     "name": "stderr",
     "output_type": "stream",
     "text": [
      "pynbody.halo : An error occurred while reading substructure file. Falling back to using the halo info.\n"
     ]
    },
    {
     "name": "stdout",
     "output_type": "stream",
     "text": [
      "Not formed stars yet\n"
     ]
    },
    {
     "name": "stderr",
     "output_type": "stream",
     "text": [
      "pynbody.halo : An error occurred while reading substructure file. Falling back to using the halo info.\n"
     ]
    },
    {
     "name": "stdout",
     "output_type": "stream",
     "text": [
      "Not formed stars yet\n"
     ]
    },
    {
     "name": "stderr",
     "output_type": "stream",
     "text": [
      "pynbody.halo : An error occurred while reading substructure file. Falling back to using the halo info.\n"
     ]
    },
    {
     "name": "stdout",
     "output_type": "stream",
     "text": [
      "Not formed stars yet\n"
     ]
    },
    {
     "name": "stderr",
     "output_type": "stream",
     "text": [
      "pynbody.halo : An error occurred while reading substructure file. Falling back to using the halo info.\n"
     ]
    },
    {
     "name": "stdout",
     "output_type": "stream",
     "text": [
      "Not formed stars yet\n"
     ]
    },
    {
     "name": "stderr",
     "output_type": "stream",
     "text": [
      "pynbody.halo : An error occurred while reading substructure file. Falling back to using the halo info.\n"
     ]
    },
    {
     "name": "stdout",
     "output_type": "stream",
     "text": [
      "Not formed stars yet\n"
     ]
    },
    {
     "name": "stderr",
     "output_type": "stream",
     "text": [
      "pynbody.halo : An error occurred while reading substructure file. Falling back to using the halo info.\n"
     ]
    },
    {
     "name": "stdout",
     "output_type": "stream",
     "text": [
      "Not formed stars yet\n"
     ]
    },
    {
     "name": "stderr",
     "output_type": "stream",
     "text": [
      "pynbody.halo : An error occurred while reading substructure file. Falling back to using the halo info.\n"
     ]
    },
    {
     "name": "stdout",
     "output_type": "stream",
     "text": [
      "Not formed stars yet\n"
     ]
    },
    {
     "name": "stderr",
     "output_type": "stream",
     "text": [
      "pynbody.halo : An error occurred while reading substructure file. Falling back to using the halo info.\n"
     ]
    },
    {
     "name": "stdout",
     "output_type": "stream",
     "text": [
      "Not formed stars yet\n"
     ]
    },
    {
     "name": "stderr",
     "output_type": "stream",
     "text": [
      "pynbody.halo : An error occurred while reading substructure file. Falling back to using the halo info.\n"
     ]
    },
    {
     "name": "stdout",
     "output_type": "stream",
     "text": [
      "Not formed stars yet\n"
     ]
    },
    {
     "name": "stderr",
     "output_type": "stream",
     "text": [
      "pynbody.halo : An error occurred while reading substructure file. Falling back to using the halo info.\n"
     ]
    },
    {
     "name": "stdout",
     "output_type": "stream",
     "text": [
      "Not formed stars yet\n"
     ]
    },
    {
     "name": "stderr",
     "output_type": "stream",
     "text": [
      "pynbody.halo : An error occurred while reading substructure file. Falling back to using the halo info.\n"
     ]
    },
    {
     "name": "stdout",
     "output_type": "stream",
     "text": [
      "Not formed stars yet\n"
     ]
    },
    {
     "name": "stderr",
     "output_type": "stream",
     "text": [
      "pynbody.halo : An error occurred while reading substructure file. Falling back to using the halo info.\n"
     ]
    },
    {
     "name": "stdout",
     "output_type": "stream",
     "text": [
      "Not formed stars yet\n"
     ]
    },
    {
     "name": "stderr",
     "output_type": "stream",
     "text": [
      "pynbody.halo : An error occurred while reading substructure file. Falling back to using the halo info.\n"
     ]
    },
    {
     "name": "stdout",
     "output_type": "stream",
     "text": [
      "Not formed stars yet\n"
     ]
    },
    {
     "name": "stderr",
     "output_type": "stream",
     "text": [
      "pynbody.halo : An error occurred while reading substructure file. Falling back to using the halo info.\n"
     ]
    },
    {
     "name": "stdout",
     "output_type": "stream",
     "text": [
      "Not formed stars yet\n"
     ]
    },
    {
     "name": "stderr",
     "output_type": "stream",
     "text": [
      "pynbody.halo : An error occurred while reading substructure file. Falling back to using the halo info.\n"
     ]
    },
    {
     "name": "stdout",
     "output_type": "stream",
     "text": [
      "Not formed stars yet\n"
     ]
    },
    {
     "name": "stderr",
     "output_type": "stream",
     "text": [
      "pynbody.halo : An error occurred while reading substructure file. Falling back to using the halo info.\n"
     ]
    },
    {
     "name": "stdout",
     "output_type": "stream",
     "text": [
      "Not formed stars yet\n"
     ]
    },
    {
     "name": "stderr",
     "output_type": "stream",
     "text": [
      "pynbody.halo : An error occurred while reading substructure file. Falling back to using the halo info.\n"
     ]
    },
    {
     "name": "stdout",
     "output_type": "stream",
     "text": [
      "Not formed stars yet\n"
     ]
    },
    {
     "name": "stderr",
     "output_type": "stream",
     "text": [
      "pynbody.halo : An error occurred while reading substructure file. Falling back to using the halo info.\n"
     ]
    },
    {
     "name": "stdout",
     "output_type": "stream",
     "text": [
      "Not formed stars yet\n"
     ]
    },
    {
     "name": "stderr",
     "output_type": "stream",
     "text": [
      "pynbody.halo : An error occurred while reading substructure file. Falling back to using the halo info.\n"
     ]
    },
    {
     "name": "stdout",
     "output_type": "stream",
     "text": [
      "Not formed stars yet\n"
     ]
    },
    {
     "name": "stderr",
     "output_type": "stream",
     "text": [
      "pynbody.halo : An error occurred while reading substructure file. Falling back to using the halo info.\n"
     ]
    },
    {
     "name": "stdout",
     "output_type": "stream",
     "text": [
      "Not formed stars yet\n"
     ]
    },
    {
     "name": "stderr",
     "output_type": "stream",
     "text": [
      "pynbody.halo : An error occurred while reading substructure file. Falling back to using the halo info.\n"
     ]
    },
    {
     "name": "stdout",
     "output_type": "stream",
     "text": [
      "Not formed stars yet\n"
     ]
    },
    {
     "name": "stderr",
     "output_type": "stream",
     "text": [
      "pynbody.halo : An error occurred while reading substructure file. Falling back to using the halo info.\n"
     ]
    },
    {
     "name": "stdout",
     "output_type": "stream",
     "text": [
      "Not formed stars yet\n"
     ]
    },
    {
     "name": "stderr",
     "output_type": "stream",
     "text": [
      "pynbody.halo : An error occurred while reading substructure file. Falling back to using the halo info.\n"
     ]
    },
    {
     "name": "stdout",
     "output_type": "stream",
     "text": [
      "Not formed stars yet\n"
     ]
    },
    {
     "name": "stderr",
     "output_type": "stream",
     "text": [
      "pynbody.halo : An error occurred while reading substructure file. Falling back to using the halo info.\n"
     ]
    },
    {
     "name": "stdout",
     "output_type": "stream",
     "text": [
      "Not formed stars yet\n"
     ]
    },
    {
     "name": "stderr",
     "output_type": "stream",
     "text": [
      "pynbody.halo : An error occurred while reading substructure file. Falling back to using the halo info.\n"
     ]
    },
    {
     "name": "stdout",
     "output_type": "stream",
     "text": [
      "Not formed stars yet\n"
     ]
    },
    {
     "name": "stderr",
     "output_type": "stream",
     "text": [
      "pynbody.halo : An error occurred while reading substructure file. Falling back to using the halo info.\n"
     ]
    },
    {
     "name": "stdout",
     "output_type": "stream",
     "text": [
      "Not formed stars yet\n"
     ]
    },
    {
     "name": "stderr",
     "output_type": "stream",
     "text": [
      "pynbody.halo : An error occurred while reading substructure file. Falling back to using the halo info.\n"
     ]
    },
    {
     "name": "stdout",
     "output_type": "stream",
     "text": [
      "Not formed stars yet\n"
     ]
    },
    {
     "name": "stderr",
     "output_type": "stream",
     "text": [
      "pynbody.halo : An error occurred while reading substructure file. Falling back to using the halo info.\n"
     ]
    },
    {
     "name": "stdout",
     "output_type": "stream",
     "text": [
      "Not formed stars yet\n"
     ]
    },
    {
     "name": "stderr",
     "output_type": "stream",
     "text": [
      "pynbody.halo : An error occurred while reading substructure file. Falling back to using the halo info.\n"
     ]
    },
    {
     "name": "stdout",
     "output_type": "stream",
     "text": [
      "Not formed stars yet\n"
     ]
    },
    {
     "name": "stderr",
     "output_type": "stream",
     "text": [
      "pynbody.halo : An error occurred while reading substructure file. Falling back to using the halo info.\n"
     ]
    },
    {
     "name": "stdout",
     "output_type": "stream",
     "text": [
      "Not formed stars yet\n"
     ]
    },
    {
     "name": "stderr",
     "output_type": "stream",
     "text": [
      "pynbody.halo : An error occurred while reading substructure file. Falling back to using the halo info.\n"
     ]
    },
    {
     "name": "stdout",
     "output_type": "stream",
     "text": [
      "Not formed stars yet\n"
     ]
    },
    {
     "name": "stderr",
     "output_type": "stream",
     "text": [
      "pynbody.halo : An error occurred while reading substructure file. Falling back to using the halo info.\n"
     ]
    },
    {
     "name": "stdout",
     "output_type": "stream",
     "text": [
      "Not formed stars yet\n"
     ]
    },
    {
     "name": "stderr",
     "output_type": "stream",
     "text": [
      "pynbody.halo : An error occurred while reading substructure file. Falling back to using the halo info.\n"
     ]
    },
    {
     "name": "stdout",
     "output_type": "stream",
     "text": [
      "Not formed stars yet\n"
     ]
    },
    {
     "name": "stderr",
     "output_type": "stream",
     "text": [
      "pynbody.halo : An error occurred while reading substructure file. Falling back to using the halo info.\n",
      "pynbody.halo : An error occurred while reading substructure file. Falling back to using the halo info.\n",
      "pynbody.halo : An error occurred while reading substructure file. Falling back to using the halo info.\n",
      "pynbody.halo : An error occurred while reading substructure file. Falling back to using the halo info.\n",
      "pynbody.halo : An error occurred while reading substructure file. Falling back to using the halo info.\n",
      "pynbody.halo : An error occurred while reading substructure file. Falling back to using the halo info.\n",
      "pynbody.halo : An error occurred while reading substructure file. Falling back to using the halo info.\n",
      "pynbody.halo : An error occurred while reading substructure file. Falling back to using the halo info.\n",
      "pynbody.halo : An error occurred while reading substructure file. Falling back to using the halo info.\n",
      "pynbody.halo : An error occurred while reading substructure file. Falling back to using the halo info.\n",
      "pynbody.halo : An error occurred while reading substructure file. Falling back to using the halo info.\n",
      "pynbody.halo : An error occurred while reading substructure file. Falling back to using the halo info.\n",
      "pynbody.halo : An error occurred while reading substructure file. Falling back to using the halo info.\n",
      "pynbody.halo : An error occurred while reading substructure file. Falling back to using the halo info.\n",
      "pynbody.halo : An error occurred while reading substructure file. Falling back to using the halo info.\n",
      "pynbody.halo : An error occurred while reading substructure file. Falling back to using the halo info.\n",
      "pynbody.halo : An error occurred while reading substructure file. Falling back to using the halo info.\n",
      "pynbody.halo : An error occurred while reading substructure file. Falling back to using the halo info.\n",
      "pynbody.halo : An error occurred while reading substructure file. Falling back to using the halo info.\n",
      "pynbody.halo : An error occurred while reading substructure file. Falling back to using the halo info.\n",
      "pynbody.halo : An error occurred while reading substructure file. Falling back to using the halo info.\n",
      "pynbody.halo : An error occurred while reading substructure file. Falling back to using the halo info.\n",
      "pynbody.halo : An error occurred while reading substructure file. Falling back to using the halo info.\n",
      "pynbody.halo : An error occurred while reading substructure file. Falling back to using the halo info.\n",
      "pynbody.halo : An error occurred while reading substructure file. Falling back to using the halo info.\n",
      "pynbody.halo : An error occurred while reading substructure file. Falling back to using the halo info.\n",
      "pynbody.halo : An error occurred while reading substructure file. Falling back to using the halo info.\n",
      "pynbody.halo : An error occurred while reading substructure file. Falling back to using the halo info.\n",
      "pynbody.halo : An error occurred while reading substructure file. Falling back to using the halo info.\n",
      "pynbody.halo : An error occurred while reading substructure file. Falling back to using the halo info.\n",
      "pynbody.halo : An error occurred while reading substructure file. Falling back to using the halo info.\n",
      "pynbody.halo : An error occurred while reading substructure file. Falling back to using the halo info.\n",
      "pynbody.halo : An error occurred while reading substructure file. Falling back to using the halo info.\n",
      "pynbody.halo : An error occurred while reading substructure file. Falling back to using the halo info.\n",
      "pynbody.halo : An error occurred while reading substructure file. Falling back to using the halo info.\n",
      "pynbody.halo : An error occurred while reading substructure file. Falling back to using the halo info.\n",
      "pynbody.halo : An error occurred while reading substructure file. Falling back to using the halo info.\n",
      "pynbody.halo : An error occurred while reading substructure file. Falling back to using the halo info.\n",
      "pynbody.halo : An error occurred while reading substructure file. Falling back to using the halo info.\n",
      "pynbody.halo : An error occurred while reading substructure file. Falling back to using the halo info.\n",
      "pynbody.halo : An error occurred while reading substructure file. Falling back to using the halo info.\n",
      "pynbody.halo : An error occurred while reading substructure file. Falling back to using the halo info.\n",
      "pynbody.halo : An error occurred while reading substructure file. Falling back to using the halo info.\n",
      "pynbody.halo : An error occurred while reading substructure file. Falling back to using the halo info.\n",
      "pynbody.halo : An error occurred while reading substructure file. Falling back to using the halo info.\n",
      "pynbody.halo : An error occurred while reading substructure file. Falling back to using the halo info.\n",
      "pynbody.halo : An error occurred while reading substructure file. Falling back to using the halo info.\n",
      "pynbody.halo : An error occurred while reading substructure file. Falling back to using the halo info.\n",
      "pynbody.halo : An error occurred while reading substructure file. Falling back to using the halo info.\n",
      "pynbody.halo : An error occurred while reading substructure file. Falling back to using the halo info.\n",
      "pynbody.halo : An error occurred while reading substructure file. Falling back to using the halo info.\n",
      "pynbody.halo : An error occurred while reading substructure file. Falling back to using the halo info.\n",
      "pynbody.halo : An error occurred while reading substructure file. Falling back to using the halo info.\n",
      "pynbody.halo : An error occurred while reading substructure file. Falling back to using the halo info.\n",
      "pynbody.halo : An error occurred while reading substructure file. Falling back to using the halo info.\n",
      "pynbody.halo : An error occurred while reading substructure file. Falling back to using the halo info.\n",
      "pynbody.halo : An error occurred while reading substructure file. Falling back to using the halo info.\n",
      "pynbody.halo : An error occurred while reading substructure file. Falling back to using the halo info.\n",
      "pynbody.halo : An error occurred while reading substructure file. Falling back to using the halo info.\n",
      "pynbody.halo : An error occurred while reading substructure file. Falling back to using the halo info.\n",
      "pynbody.halo : An error occurred while reading substructure file. Falling back to using the halo info.\n",
      "pynbody.halo : An error occurred while reading substructure file. Falling back to using the halo info.\n",
      "pynbody.halo : An error occurred while reading substructure file. Falling back to using the halo info.\n",
      "pynbody.halo : An error occurred while reading substructure file. Falling back to using the halo info.\n",
      "pynbody.halo : An error occurred while reading substructure file. Falling back to using the halo info.\n",
      "pynbody.halo : An error occurred while reading substructure file. Falling back to using the halo info.\n",
      "pynbody.halo : An error occurred while reading substructure file. Falling back to using the halo info.\n",
      "pynbody.halo : An error occurred while reading substructure file. Falling back to using the halo info.\n",
      "pynbody.halo : An error occurred while reading substructure file. Falling back to using the halo info.\n",
      "pynbody.halo : An error occurred while reading substructure file. Falling back to using the halo info.\n",
      "pynbody.halo : An error occurred while reading substructure file. Falling back to using the halo info.\n",
      "pynbody.halo : An error occurred while reading substructure file. Falling back to using the halo info.\n",
      "pynbody.halo : An error occurred while reading substructure file. Falling back to using the halo info.\n",
      "pynbody.halo : An error occurred while reading substructure file. Falling back to using the halo info.\n"
     ]
    },
    {
     "name": "stdout",
     "output_type": "stream",
     "text": [
      "Not formed stars yet\n"
     ]
    },
    {
     "name": "stderr",
     "output_type": "stream",
     "text": [
      "pynbody.halo : An error occurred while reading substructure file. Falling back to using the halo info.\n",
      "pynbody.halo : An error occurred while reading substructure file. Falling back to using the halo info.\n",
      "pynbody.halo : An error occurred while reading substructure file. Falling back to using the halo info.\n",
      "pynbody.halo : An error occurred while reading substructure file. Falling back to using the halo info.\n"
     ]
    },
    {
     "name": "stdout",
     "output_type": "stream",
     "text": [
      "Not formed stars yet\n"
     ]
    },
    {
     "name": "stderr",
     "output_type": "stream",
     "text": [
      "pynbody.halo : An error occurred while reading substructure file. Falling back to using the halo info.\n",
      "pynbody.halo : An error occurred while reading substructure file. Falling back to using the halo info.\n",
      "pynbody.halo : An error occurred while reading substructure file. Falling back to using the halo info.\n",
      "pynbody.halo : An error occurred while reading substructure file. Falling back to using the halo info.\n",
      "pynbody.halo : An error occurred while reading substructure file. Falling back to using the halo info.\n",
      "pynbody.halo : An error occurred while reading substructure file. Falling back to using the halo info.\n",
      "pynbody.halo : An error occurred while reading substructure file. Falling back to using the halo info.\n",
      "pynbody.halo : An error occurred while reading substructure file. Falling back to using the halo info.\n",
      "pynbody.halo : An error occurred while reading substructure file. Falling back to using the halo info.\n",
      "pynbody.halo : An error occurred while reading substructure file. Falling back to using the halo info.\n",
      "pynbody.halo : An error occurred while reading substructure file. Falling back to using the halo info.\n",
      "pynbody.halo : An error occurred while reading substructure file. Falling back to using the halo info.\n",
      "pynbody.halo : An error occurred while reading substructure file. Falling back to using the halo info.\n",
      "pynbody.halo : An error occurred while reading substructure file. Falling back to using the halo info.\n",
      "pynbody.halo : An error occurred while reading substructure file. Falling back to using the halo info.\n",
      "pynbody.halo : An error occurred while reading substructure file. Falling back to using the halo info.\n",
      "pynbody.halo : An error occurred while reading substructure file. Falling back to using the halo info.\n",
      "pynbody.halo : An error occurred while reading substructure file. Falling back to using the halo info.\n",
      "pynbody.halo : An error occurred while reading substructure file. Falling back to using the halo info.\n",
      "pynbody.halo : An error occurred while reading substructure file. Falling back to using the halo info.\n",
      "pynbody.halo : An error occurred while reading substructure file. Falling back to using the halo info.\n",
      "pynbody.halo : An error occurred while reading substructure file. Falling back to using the halo info.\n",
      "pynbody.halo : An error occurred while reading substructure file. Falling back to using the halo info.\n",
      "pynbody.halo : An error occurred while reading substructure file. Falling back to using the halo info.\n",
      "pynbody.halo : An error occurred while reading substructure file. Falling back to using the halo info.\n",
      "pynbody.halo : An error occurred while reading substructure file. Falling back to using the halo info.\n",
      "pynbody.halo : An error occurred while reading substructure file. Falling back to using the halo info.\n",
      "pynbody.halo : An error occurred while reading substructure file. Falling back to using the halo info.\n",
      "pynbody.halo : An error occurred while reading substructure file. Falling back to using the halo info.\n",
      "pynbody.halo : An error occurred while reading substructure file. Falling back to using the halo info.\n",
      "pynbody.halo : An error occurred while reading substructure file. Falling back to using the halo info.\n",
      "pynbody.halo : An error occurred while reading substructure file. Falling back to using the halo info.\n",
      "pynbody.halo : An error occurred while reading substructure file. Falling back to using the halo info.\n",
      "pynbody.halo : An error occurred while reading substructure file. Falling back to using the halo info.\n",
      "pynbody.halo : An error occurred while reading substructure file. Falling back to using the halo info.\n",
      "pynbody.halo : An error occurred while reading substructure file. Falling back to using the halo info.\n",
      "pynbody.halo : An error occurred while reading substructure file. Falling back to using the halo info.\n",
      "pynbody.halo : An error occurred while reading substructure file. Falling back to using the halo info.\n",
      "pynbody.halo : An error occurred while reading substructure file. Falling back to using the halo info.\n",
      "pynbody.halo : An error occurred while reading substructure file. Falling back to using the halo info.\n",
      "pynbody.halo : An error occurred while reading substructure file. Falling back to using the halo info.\n",
      "pynbody.halo : An error occurred while reading substructure file. Falling back to using the halo info.\n",
      "pynbody.halo : An error occurred while reading substructure file. Falling back to using the halo info.\n",
      "pynbody.halo : An error occurred while reading substructure file. Falling back to using the halo info.\n",
      "pynbody.halo : An error occurred while reading substructure file. Falling back to using the halo info.\n",
      "pynbody.halo : An error occurred while reading substructure file. Falling back to using the halo info.\n",
      "pynbody.halo : An error occurred while reading substructure file. Falling back to using the halo info.\n",
      "pynbody.halo : An error occurred while reading substructure file. Falling back to using the halo info.\n",
      "pynbody.halo : An error occurred while reading substructure file. Falling back to using the halo info.\n",
      "pynbody.halo : An error occurred while reading substructure file. Falling back to using the halo info.\n",
      "pynbody.halo : An error occurred while reading substructure file. Falling back to using the halo info.\n",
      "pynbody.halo : An error occurred while reading substructure file. Falling back to using the halo info.\n",
      "pynbody.halo : An error occurred while reading substructure file. Falling back to using the halo info.\n",
      "pynbody.halo : An error occurred while reading substructure file. Falling back to using the halo info.\n",
      "pynbody.halo : An error occurred while reading substructure file. Falling back to using the halo info.\n",
      "pynbody.halo : An error occurred while reading substructure file. Falling back to using the halo info.\n",
      "pynbody.halo : An error occurred while reading substructure file. Falling back to using the halo info.\n",
      "pynbody.halo : An error occurred while reading substructure file. Falling back to using the halo info.\n",
      "pynbody.halo : An error occurred while reading substructure file. Falling back to using the halo info.\n",
      "pynbody.halo : An error occurred while reading substructure file. Falling back to using the halo info.\n",
      "pynbody.halo : An error occurred while reading substructure file. Falling back to using the halo info.\n",
      "pynbody.halo : An error occurred while reading substructure file. Falling back to using the halo info.\n",
      "pynbody.halo : An error occurred while reading substructure file. Falling back to using the halo info.\n"
     ]
    },
    {
     "name": "stdout",
     "output_type": "stream",
     "text": [
      "Not formed stars yet\n"
     ]
    },
    {
     "name": "stderr",
     "output_type": "stream",
     "text": [
      "pynbody.halo : An error occurred while reading substructure file. Falling back to using the halo info.\n",
      "pynbody.halo : An error occurred while reading substructure file. Falling back to using the halo info.\n",
      "pynbody.halo : An error occurred while reading substructure file. Falling back to using the halo info.\n",
      "pynbody.halo : An error occurred while reading substructure file. Falling back to using the halo info.\n",
      "pynbody.halo : An error occurred while reading substructure file. Falling back to using the halo info.\n",
      "pynbody.halo : An error occurred while reading substructure file. Falling back to using the halo info.\n",
      "pynbody.halo : An error occurred while reading substructure file. Falling back to using the halo info.\n",
      "pynbody.halo : An error occurred while reading substructure file. Falling back to using the halo info.\n",
      "pynbody.halo : An error occurred while reading substructure file. Falling back to using the halo info.\n",
      "pynbody.halo : An error occurred while reading substructure file. Falling back to using the halo info.\n",
      "pynbody.halo : An error occurred while reading substructure file. Falling back to using the halo info.\n",
      "pynbody.halo : An error occurred while reading substructure file. Falling back to using the halo info.\n",
      "pynbody.halo : An error occurred while reading substructure file. Falling back to using the halo info.\n",
      "pynbody.halo : An error occurred while reading substructure file. Falling back to using the halo info.\n",
      "pynbody.halo : An error occurred while reading substructure file. Falling back to using the halo info.\n",
      "pynbody.halo : An error occurred while reading substructure file. Falling back to using the halo info.\n",
      "pynbody.halo : An error occurred while reading substructure file. Falling back to using the halo info.\n",
      "pynbody.halo : An error occurred while reading substructure file. Falling back to using the halo info.\n",
      "pynbody.halo : An error occurred while reading substructure file. Falling back to using the halo info.\n",
      "pynbody.halo : An error occurred while reading substructure file. Falling back to using the halo info.\n",
      "pynbody.halo : An error occurred while reading substructure file. Falling back to using the halo info.\n",
      "pynbody.halo : An error occurred while reading substructure file. Falling back to using the halo info.\n",
      "pynbody.halo : An error occurred while reading substructure file. Falling back to using the halo info.\n",
      "pynbody.halo : An error occurred while reading substructure file. Falling back to using the halo info.\n",
      "pynbody.halo : An error occurred while reading substructure file. Falling back to using the halo info.\n",
      "pynbody.halo : An error occurred while reading substructure file. Falling back to using the halo info.\n",
      "pynbody.halo : An error occurred while reading substructure file. Falling back to using the halo info.\n",
      "pynbody.halo : An error occurred while reading substructure file. Falling back to using the halo info.\n",
      "pynbody.halo : An error occurred while reading substructure file. Falling back to using the halo info.\n",
      "pynbody.halo : An error occurred while reading substructure file. Falling back to using the halo info.\n",
      "pynbody.halo : An error occurred while reading substructure file. Falling back to using the halo info.\n",
      "pynbody.halo : An error occurred while reading substructure file. Falling back to using the halo info.\n",
      "pynbody.halo : An error occurred while reading substructure file. Falling back to using the halo info.\n",
      "pynbody.halo : An error occurred while reading substructure file. Falling back to using the halo info.\n",
      "pynbody.halo : An error occurred while reading substructure file. Falling back to using the halo info.\n",
      "pynbody.halo : An error occurred while reading substructure file. Falling back to using the halo info.\n",
      "pynbody.halo : An error occurred while reading substructure file. Falling back to using the halo info.\n",
      "pynbody.halo : An error occurred while reading substructure file. Falling back to using the halo info.\n",
      "pynbody.halo : An error occurred while reading substructure file. Falling back to using the halo info.\n",
      "pynbody.halo : An error occurred while reading substructure file. Falling back to using the halo info.\n",
      "pynbody.halo : An error occurred while reading substructure file. Falling back to using the halo info.\n",
      "pynbody.halo : An error occurred while reading substructure file. Falling back to using the halo info.\n",
      "pynbody.halo : An error occurred while reading substructure file. Falling back to using the halo info.\n",
      "pynbody.halo : An error occurred while reading substructure file. Falling back to using the halo info.\n",
      "pynbody.halo : An error occurred while reading substructure file. Falling back to using the halo info.\n",
      "pynbody.halo : An error occurred while reading substructure file. Falling back to using the halo info.\n",
      "pynbody.halo : An error occurred while reading substructure file. Falling back to using the halo info.\n",
      "pynbody.halo : An error occurred while reading substructure file. Falling back to using the halo info.\n"
     ]
    },
    {
     "name": "stdout",
     "output_type": "stream",
     "text": [
      "Not formed stars yet\n"
     ]
    },
    {
     "name": "stderr",
     "output_type": "stream",
     "text": [
      "pynbody.halo : An error occurred while reading substructure file. Falling back to using the halo info.\n",
      "pynbody.halo : An error occurred while reading substructure file. Falling back to using the halo info.\n",
      "pynbody.halo : An error occurred while reading substructure file. Falling back to using the halo info.\n"
     ]
    },
    {
     "name": "stdout",
     "output_type": "stream",
     "text": [
      "Not formed stars yet\n"
     ]
    },
    {
     "name": "stderr",
     "output_type": "stream",
     "text": [
      "pynbody.halo : An error occurred while reading substructure file. Falling back to using the halo info.\n"
     ]
    },
    {
     "name": "stdout",
     "output_type": "stream",
     "text": [
      "Not formed stars yet\n"
     ]
    },
    {
     "name": "stderr",
     "output_type": "stream",
     "text": [
      "pynbody.halo : An error occurred while reading substructure file. Falling back to using the halo info.\n",
      "pynbody.halo : An error occurred while reading substructure file. Falling back to using the halo info.\n",
      "pynbody.halo : An error occurred while reading substructure file. Falling back to using the halo info.\n"
     ]
    },
    {
     "name": "stdout",
     "output_type": "stream",
     "text": [
      "Not formed stars yet\n"
     ]
    },
    {
     "name": "stderr",
     "output_type": "stream",
     "text": [
      "pynbody.halo : An error occurred while reading substructure file. Falling back to using the halo info.\n",
      "pynbody.halo : An error occurred while reading substructure file. Falling back to using the halo info.\n",
      "pynbody.halo : An error occurred while reading substructure file. Falling back to using the halo info.\n",
      "pynbody.halo : An error occurred while reading substructure file. Falling back to using the halo info.\n",
      "pynbody.halo : An error occurred while reading substructure file. Falling back to using the halo info.\n",
      "pynbody.halo : An error occurred while reading substructure file. Falling back to using the halo info.\n",
      "pynbody.halo : An error occurred while reading substructure file. Falling back to using the halo info.\n",
      "pynbody.halo : An error occurred while reading substructure file. Falling back to using the halo info.\n",
      "pynbody.halo : An error occurred while reading substructure file. Falling back to using the halo info.\n"
     ]
    },
    {
     "name": "stdout",
     "output_type": "stream",
     "text": [
      "Not formed stars yet\n"
     ]
    },
    {
     "name": "stderr",
     "output_type": "stream",
     "text": [
      "pynbody.halo : An error occurred while reading substructure file. Falling back to using the halo info.\n",
      "pynbody.halo : An error occurred while reading substructure file. Falling back to using the halo info.\n",
      "pynbody.halo : An error occurred while reading substructure file. Falling back to using the halo info.\n",
      "pynbody.halo : An error occurred while reading substructure file. Falling back to using the halo info.\n",
      "pynbody.halo : An error occurred while reading substructure file. Falling back to using the halo info.\n",
      "pynbody.halo : An error occurred while reading substructure file. Falling back to using the halo info.\n",
      "pynbody.halo : An error occurred while reading substructure file. Falling back to using the halo info.\n",
      "pynbody.halo : An error occurred while reading substructure file. Falling back to using the halo info.\n",
      "pynbody.halo : An error occurred while reading substructure file. Falling back to using the halo info.\n",
      "pynbody.halo : An error occurred while reading substructure file. Falling back to using the halo info.\n",
      "pynbody.halo : An error occurred while reading substructure file. Falling back to using the halo info.\n",
      "pynbody.halo : An error occurred while reading substructure file. Falling back to using the halo info.\n",
      "pynbody.halo : An error occurred while reading substructure file. Falling back to using the halo info.\n",
      "pynbody.halo : An error occurred while reading substructure file. Falling back to using the halo info.\n",
      "pynbody.halo : An error occurred while reading substructure file. Falling back to using the halo info.\n",
      "pynbody.halo : An error occurred while reading substructure file. Falling back to using the halo info.\n",
      "pynbody.halo : An error occurred while reading substructure file. Falling back to using the halo info.\n",
      "pynbody.halo : An error occurred while reading substructure file. Falling back to using the halo info.\n",
      "pynbody.halo : An error occurred while reading substructure file. Falling back to using the halo info.\n",
      "pynbody.halo : An error occurred while reading substructure file. Falling back to using the halo info.\n",
      "pynbody.halo : An error occurred while reading substructure file. Falling back to using the halo info.\n",
      "pynbody.halo : An error occurred while reading substructure file. Falling back to using the halo info.\n",
      "pynbody.halo : An error occurred while reading substructure file. Falling back to using the halo info.\n",
      "pynbody.halo : An error occurred while reading substructure file. Falling back to using the halo info.\n",
      "pynbody.halo : An error occurred while reading substructure file. Falling back to using the halo info.\n",
      "pynbody.halo : An error occurred while reading substructure file. Falling back to using the halo info.\n",
      "pynbody.halo : An error occurred while reading substructure file. Falling back to using the halo info.\n",
      "pynbody.halo : An error occurred while reading substructure file. Falling back to using the halo info.\n",
      "pynbody.halo : An error occurred while reading substructure file. Falling back to using the halo info.\n",
      "pynbody.halo : An error occurred while reading substructure file. Falling back to using the halo info.\n",
      "pynbody.halo : An error occurred while reading substructure file. Falling back to using the halo info.\n",
      "pynbody.halo : An error occurred while reading substructure file. Falling back to using the halo info.\n",
      "pynbody.halo : An error occurred while reading substructure file. Falling back to using the halo info.\n",
      "pynbody.halo : An error occurred while reading substructure file. Falling back to using the halo info.\n",
      "pynbody.halo : An error occurred while reading substructure file. Falling back to using the halo info.\n",
      "pynbody.halo : An error occurred while reading substructure file. Falling back to using the halo info.\n",
      "pynbody.halo : An error occurred while reading substructure file. Falling back to using the halo info.\n",
      "pynbody.halo : An error occurred while reading substructure file. Falling back to using the halo info.\n",
      "pynbody.halo : An error occurred while reading substructure file. Falling back to using the halo info.\n",
      "pynbody.halo : An error occurred while reading substructure file. Falling back to using the halo info.\n",
      "pynbody.halo : An error occurred while reading substructure file. Falling back to using the halo info.\n",
      "pynbody.halo : An error occurred while reading substructure file. Falling back to using the halo info.\n",
      "pynbody.halo : An error occurred while reading substructure file. Falling back to using the halo info.\n",
      "pynbody.halo : An error occurred while reading substructure file. Falling back to using the halo info.\n",
      "pynbody.halo : An error occurred while reading substructure file. Falling back to using the halo info.\n",
      "pynbody.halo : An error occurred while reading substructure file. Falling back to using the halo info.\n",
      "pynbody.halo : An error occurred while reading substructure file. Falling back to using the halo info.\n",
      "pynbody.halo : An error occurred while reading substructure file. Falling back to using the halo info.\n",
      "pynbody.halo : An error occurred while reading substructure file. Falling back to using the halo info.\n",
      "pynbody.halo : An error occurred while reading substructure file. Falling back to using the halo info.\n",
      "pynbody.halo : An error occurred while reading substructure file. Falling back to using the halo info.\n",
      "pynbody.halo : An error occurred while reading substructure file. Falling back to using the halo info.\n",
      "pynbody.halo : An error occurred while reading substructure file. Falling back to using the halo info.\n",
      "pynbody.halo : An error occurred while reading substructure file. Falling back to using the halo info.\n",
      "pynbody.halo : An error occurred while reading substructure file. Falling back to using the halo info.\n",
      "pynbody.halo : An error occurred while reading substructure file. Falling back to using the halo info.\n",
      "pynbody.halo : An error occurred while reading substructure file. Falling back to using the halo info.\n",
      "pynbody.halo : An error occurred while reading substructure file. Falling back to using the halo info.\n",
      "pynbody.halo : An error occurred while reading substructure file. Falling back to using the halo info.\n",
      "pynbody.halo : An error occurred while reading substructure file. Falling back to using the halo info.\n",
      "pynbody.halo : An error occurred while reading substructure file. Falling back to using the halo info.\n",
      "pynbody.halo : An error occurred while reading substructure file. Falling back to using the halo info.\n"
     ]
    },
    {
     "name": "stdout",
     "output_type": "stream",
     "text": [
      "Not formed stars yet\n"
     ]
    },
    {
     "name": "stderr",
     "output_type": "stream",
     "text": [
      "pynbody.halo : An error occurred while reading substructure file. Falling back to using the halo info.\n",
      "pynbody.halo : An error occurred while reading substructure file. Falling back to using the halo info.\n",
      "pynbody.halo : An error occurred while reading substructure file. Falling back to using the halo info.\n"
     ]
    },
    {
     "name": "stdout",
     "output_type": "stream",
     "text": [
      "Not formed stars yet\n"
     ]
    },
    {
     "name": "stderr",
     "output_type": "stream",
     "text": [
      "pynbody.halo : An error occurred while reading substructure file. Falling back to using the halo info.\n",
      "pynbody.halo : An error occurred while reading substructure file. Falling back to using the halo info.\n",
      "pynbody.halo : An error occurred while reading substructure file. Falling back to using the halo info.\n"
     ]
    },
    {
     "name": "stdout",
     "output_type": "stream",
     "text": [
      "Not formed stars yet\n"
     ]
    },
    {
     "name": "stderr",
     "output_type": "stream",
     "text": [
      "pynbody.halo : An error occurred while reading substructure file. Falling back to using the halo info.\n",
      "pynbody.halo : An error occurred while reading substructure file. Falling back to using the halo info.\n",
      "pynbody.halo : An error occurred while reading substructure file. Falling back to using the halo info.\n",
      "pynbody.halo : An error occurred while reading substructure file. Falling back to using the halo info.\n",
      "pynbody.halo : An error occurred while reading substructure file. Falling back to using the halo info.\n",
      "pynbody.halo : An error occurred while reading substructure file. Falling back to using the halo info.\n",
      "pynbody.halo : An error occurred while reading substructure file. Falling back to using the halo info.\n",
      "pynbody.halo : An error occurred while reading substructure file. Falling back to using the halo info.\n",
      "pynbody.halo : An error occurred while reading substructure file. Falling back to using the halo info.\n",
      "pynbody.halo : An error occurred while reading substructure file. Falling back to using the halo info.\n",
      "pynbody.halo : An error occurred while reading substructure file. Falling back to using the halo info.\n",
      "pynbody.halo : An error occurred while reading substructure file. Falling back to using the halo info.\n",
      "pynbody.halo : An error occurred while reading substructure file. Falling back to using the halo info.\n",
      "pynbody.halo : An error occurred while reading substructure file. Falling back to using the halo info.\n",
      "pynbody.halo : An error occurred while reading substructure file. Falling back to using the halo info.\n",
      "pynbody.halo : An error occurred while reading substructure file. Falling back to using the halo info.\n",
      "pynbody.halo : An error occurred while reading substructure file. Falling back to using the halo info.\n",
      "pynbody.halo : An error occurred while reading substructure file. Falling back to using the halo info.\n",
      "pynbody.halo : An error occurred while reading substructure file. Falling back to using the halo info.\n",
      "pynbody.halo : An error occurred while reading substructure file. Falling back to using the halo info.\n",
      "pynbody.halo : An error occurred while reading substructure file. Falling back to using the halo info.\n",
      "pynbody.halo : An error occurred while reading substructure file. Falling back to using the halo info.\n",
      "pynbody.halo : An error occurred while reading substructure file. Falling back to using the halo info.\n",
      "pynbody.halo : An error occurred while reading substructure file. Falling back to using the halo info.\n",
      "pynbody.halo : An error occurred while reading substructure file. Falling back to using the halo info.\n",
      "pynbody.halo : An error occurred while reading substructure file. Falling back to using the halo info.\n",
      "pynbody.halo : An error occurred while reading substructure file. Falling back to using the halo info.\n",
      "pynbody.halo : An error occurred while reading substructure file. Falling back to using the halo info.\n",
      "pynbody.halo : An error occurred while reading substructure file. Falling back to using the halo info.\n",
      "pynbody.halo : An error occurred while reading substructure file. Falling back to using the halo info.\n",
      "pynbody.halo : An error occurred while reading substructure file. Falling back to using the halo info.\n",
      "pynbody.halo : An error occurred while reading substructure file. Falling back to using the halo info.\n",
      "pynbody.halo : An error occurred while reading substructure file. Falling back to using the halo info.\n",
      "pynbody.halo : An error occurred while reading substructure file. Falling back to using the halo info.\n",
      "pynbody.halo : An error occurred while reading substructure file. Falling back to using the halo info.\n",
      "pynbody.halo : An error occurred while reading substructure file. Falling back to using the halo info.\n",
      "pynbody.halo : An error occurred while reading substructure file. Falling back to using the halo info.\n",
      "pynbody.halo : An error occurred while reading substructure file. Falling back to using the halo info.\n",
      "pynbody.halo : An error occurred while reading substructure file. Falling back to using the halo info.\n",
      "pynbody.halo : An error occurred while reading substructure file. Falling back to using the halo info.\n",
      "pynbody.halo : An error occurred while reading substructure file. Falling back to using the halo info.\n",
      "pynbody.halo : An error occurred while reading substructure file. Falling back to using the halo info.\n",
      "pynbody.halo : An error occurred while reading substructure file. Falling back to using the halo info.\n",
      "pynbody.halo : An error occurred while reading substructure file. Falling back to using the halo info.\n",
      "pynbody.halo : An error occurred while reading substructure file. Falling back to using the halo info.\n",
      "pynbody.halo : An error occurred while reading substructure file. Falling back to using the halo info.\n",
      "pynbody.halo : An error occurred while reading substructure file. Falling back to using the halo info.\n",
      "pynbody.halo : An error occurred while reading substructure file. Falling back to using the halo info.\n",
      "pynbody.halo : An error occurred while reading substructure file. Falling back to using the halo info.\n",
      "pynbody.halo : An error occurred while reading substructure file. Falling back to using the halo info.\n",
      "pynbody.halo : An error occurred while reading substructure file. Falling back to using the halo info.\n",
      "pynbody.halo : An error occurred while reading substructure file. Falling back to using the halo info.\n",
      "pynbody.halo : An error occurred while reading substructure file. Falling back to using the halo info.\n",
      "pynbody.halo : An error occurred while reading substructure file. Falling back to using the halo info.\n",
      "pynbody.halo : An error occurred while reading substructure file. Falling back to using the halo info.\n",
      "pynbody.halo : An error occurred while reading substructure file. Falling back to using the halo info.\n",
      "pynbody.halo : An error occurred while reading substructure file. Falling back to using the halo info.\n"
     ]
    },
    {
     "name": "stdout",
     "output_type": "stream",
     "text": [
      "Not formed stars yet\n"
     ]
    },
    {
     "name": "stderr",
     "output_type": "stream",
     "text": [
      "pynbody.halo : An error occurred while reading substructure file. Falling back to using the halo info.\n",
      "pynbody.halo : An error occurred while reading substructure file. Falling back to using the halo info.\n",
      "pynbody.halo : An error occurred while reading substructure file. Falling back to using the halo info.\n",
      "pynbody.halo : An error occurred while reading substructure file. Falling back to using the halo info.\n",
      "pynbody.halo : An error occurred while reading substructure file. Falling back to using the halo info.\n",
      "pynbody.halo : An error occurred while reading substructure file. Falling back to using the halo info.\n",
      "pynbody.halo : An error occurred while reading substructure file. Falling back to using the halo info.\n",
      "pynbody.halo : An error occurred while reading substructure file. Falling back to using the halo info.\n",
      "pynbody.halo : An error occurred while reading substructure file. Falling back to using the halo info.\n",
      "pynbody.halo : An error occurred while reading substructure file. Falling back to using the halo info.\n",
      "pynbody.halo : An error occurred while reading substructure file. Falling back to using the halo info.\n",
      "pynbody.halo : An error occurred while reading substructure file. Falling back to using the halo info.\n",
      "pynbody.halo : An error occurred while reading substructure file. Falling back to using the halo info.\n",
      "pynbody.halo : An error occurred while reading substructure file. Falling back to using the halo info.\n",
      "pynbody.halo : An error occurred while reading substructure file. Falling back to using the halo info.\n",
      "pynbody.halo : An error occurred while reading substructure file. Falling back to using the halo info.\n",
      "pynbody.halo : An error occurred while reading substructure file. Falling back to using the halo info.\n",
      "pynbody.halo : An error occurred while reading substructure file. Falling back to using the halo info.\n",
      "pynbody.halo : An error occurred while reading substructure file. Falling back to using the halo info.\n",
      "pynbody.halo : An error occurred while reading substructure file. Falling back to using the halo info.\n",
      "pynbody.halo : An error occurred while reading substructure file. Falling back to using the halo info.\n",
      "pynbody.halo : An error occurred while reading substructure file. Falling back to using the halo info.\n",
      "pynbody.halo : An error occurred while reading substructure file. Falling back to using the halo info.\n",
      "pynbody.halo : An error occurred while reading substructure file. Falling back to using the halo info.\n",
      "pynbody.halo : An error occurred while reading substructure file. Falling back to using the halo info.\n",
      "pynbody.halo : An error occurred while reading substructure file. Falling back to using the halo info.\n",
      "pynbody.halo : An error occurred while reading substructure file. Falling back to using the halo info.\n",
      "pynbody.halo : An error occurred while reading substructure file. Falling back to using the halo info.\n",
      "pynbody.halo : An error occurred while reading substructure file. Falling back to using the halo info.\n",
      "pynbody.halo : An error occurred while reading substructure file. Falling back to using the halo info.\n",
      "pynbody.halo : An error occurred while reading substructure file. Falling back to using the halo info.\n",
      "pynbody.halo : An error occurred while reading substructure file. Falling back to using the halo info.\n",
      "pynbody.halo : An error occurred while reading substructure file. Falling back to using the halo info.\n",
      "pynbody.halo : An error occurred while reading substructure file. Falling back to using the halo info.\n",
      "pynbody.halo : An error occurred while reading substructure file. Falling back to using the halo info.\n",
      "pynbody.halo : An error occurred while reading substructure file. Falling back to using the halo info.\n",
      "pynbody.halo : An error occurred while reading substructure file. Falling back to using the halo info.\n",
      "pynbody.halo : An error occurred while reading substructure file. Falling back to using the halo info.\n",
      "pynbody.halo : An error occurred while reading substructure file. Falling back to using the halo info.\n",
      "pynbody.halo : An error occurred while reading substructure file. Falling back to using the halo info.\n",
      "pynbody.halo : An error occurred while reading substructure file. Falling back to using the halo info.\n",
      "pynbody.halo : An error occurred while reading substructure file. Falling back to using the halo info.\n",
      "pynbody.halo : An error occurred while reading substructure file. Falling back to using the halo info.\n",
      "pynbody.halo : An error occurred while reading substructure file. Falling back to using the halo info.\n",
      "pynbody.halo : An error occurred while reading substructure file. Falling back to using the halo info.\n",
      "pynbody.halo : An error occurred while reading substructure file. Falling back to using the halo info.\n",
      "pynbody.halo : An error occurred while reading substructure file. Falling back to using the halo info.\n",
      "pynbody.halo : An error occurred while reading substructure file. Falling back to using the halo info.\n",
      "pynbody.halo : An error occurred while reading substructure file. Falling back to using the halo info.\n",
      "pynbody.halo : An error occurred while reading substructure file. Falling back to using the halo info.\n",
      "pynbody.halo : An error occurred while reading substructure file. Falling back to using the halo info.\n",
      "pynbody.halo : An error occurred while reading substructure file. Falling back to using the halo info.\n",
      "pynbody.halo : An error occurred while reading substructure file. Falling back to using the halo info.\n",
      "pynbody.halo : An error occurred while reading substructure file. Falling back to using the halo info.\n",
      "pynbody.halo : An error occurred while reading substructure file. Falling back to using the halo info.\n",
      "pynbody.halo : An error occurred while reading substructure file. Falling back to using the halo info.\n",
      "pynbody.halo : An error occurred while reading substructure file. Falling back to using the halo info.\n",
      "pynbody.halo : An error occurred while reading substructure file. Falling back to using the halo info.\n",
      "pynbody.halo : An error occurred while reading substructure file. Falling back to using the halo info.\n",
      "pynbody.halo : An error occurred while reading substructure file. Falling back to using the halo info.\n",
      "pynbody.halo : An error occurred while reading substructure file. Falling back to using the halo info.\n",
      "pynbody.halo : An error occurred while reading substructure file. Falling back to using the halo info.\n",
      "pynbody.halo : An error occurred while reading substructure file. Falling back to using the halo info.\n"
     ]
    },
    {
     "name": "stdout",
     "output_type": "stream",
     "text": [
      "Not formed stars yet\n"
     ]
    },
    {
     "name": "stderr",
     "output_type": "stream",
     "text": [
      "pynbody.halo : An error occurred while reading substructure file. Falling back to using the halo info.\n",
      "pynbody.halo : An error occurred while reading substructure file. Falling back to using the halo info.\n",
      "pynbody.halo : An error occurred while reading substructure file. Falling back to using the halo info.\n",
      "pynbody.halo : An error occurred while reading substructure file. Falling back to using the halo info.\n",
      "pynbody.halo : An error occurred while reading substructure file. Falling back to using the halo info.\n",
      "pynbody.halo : An error occurred while reading substructure file. Falling back to using the halo info.\n",
      "pynbody.halo : An error occurred while reading substructure file. Falling back to using the halo info.\n",
      "pynbody.halo : An error occurred while reading substructure file. Falling back to using the halo info.\n",
      "pynbody.halo : An error occurred while reading substructure file. Falling back to using the halo info.\n",
      "pynbody.halo : An error occurred while reading substructure file. Falling back to using the halo info.\n",
      "pynbody.halo : An error occurred while reading substructure file. Falling back to using the halo info.\n",
      "pynbody.halo : An error occurred while reading substructure file. Falling back to using the halo info.\n",
      "pynbody.halo : An error occurred while reading substructure file. Falling back to using the halo info.\n",
      "pynbody.halo : An error occurred while reading substructure file. Falling back to using the halo info.\n",
      "pynbody.halo : An error occurred while reading substructure file. Falling back to using the halo info.\n",
      "pynbody.halo : An error occurred while reading substructure file. Falling back to using the halo info.\n",
      "pynbody.halo : An error occurred while reading substructure file. Falling back to using the halo info.\n",
      "pynbody.halo : An error occurred while reading substructure file. Falling back to using the halo info.\n",
      "pynbody.halo : An error occurred while reading substructure file. Falling back to using the halo info.\n",
      "pynbody.halo : An error occurred while reading substructure file. Falling back to using the halo info.\n",
      "pynbody.halo : An error occurred while reading substructure file. Falling back to using the halo info.\n",
      "pynbody.halo : An error occurred while reading substructure file. Falling back to using the halo info.\n",
      "pynbody.halo : An error occurred while reading substructure file. Falling back to using the halo info.\n",
      "pynbody.halo : An error occurred while reading substructure file. Falling back to using the halo info.\n",
      "pynbody.halo : An error occurred while reading substructure file. Falling back to using the halo info.\n",
      "pynbody.halo : An error occurred while reading substructure file. Falling back to using the halo info.\n",
      "pynbody.halo : An error occurred while reading substructure file. Falling back to using the halo info.\n",
      "pynbody.halo : An error occurred while reading substructure file. Falling back to using the halo info.\n",
      "pynbody.halo : An error occurred while reading substructure file. Falling back to using the halo info.\n",
      "pynbody.halo : An error occurred while reading substructure file. Falling back to using the halo info.\n",
      "pynbody.halo : An error occurred while reading substructure file. Falling back to using the halo info.\n",
      "pynbody.halo : An error occurred while reading substructure file. Falling back to using the halo info.\n",
      "pynbody.halo : An error occurred while reading substructure file. Falling back to using the halo info.\n",
      "pynbody.halo : An error occurred while reading substructure file. Falling back to using the halo info.\n",
      "pynbody.halo : An error occurred while reading substructure file. Falling back to using the halo info.\n",
      "pynbody.halo : An error occurred while reading substructure file. Falling back to using the halo info.\n",
      "pynbody.halo : An error occurred while reading substructure file. Falling back to using the halo info.\n",
      "pynbody.halo : An error occurred while reading substructure file. Falling back to using the halo info.\n",
      "pynbody.halo : An error occurred while reading substructure file. Falling back to using the halo info.\n",
      "pynbody.halo : An error occurred while reading substructure file. Falling back to using the halo info.\n",
      "pynbody.halo : An error occurred while reading substructure file. Falling back to using the halo info.\n",
      "pynbody.halo : An error occurred while reading substructure file. Falling back to using the halo info.\n",
      "pynbody.halo : An error occurred while reading substructure file. Falling back to using the halo info.\n",
      "pynbody.halo : An error occurred while reading substructure file. Falling back to using the halo info.\n",
      "pynbody.halo : An error occurred while reading substructure file. Falling back to using the halo info.\n",
      "pynbody.halo : An error occurred while reading substructure file. Falling back to using the halo info.\n",
      "pynbody.halo : An error occurred while reading substructure file. Falling back to using the halo info.\n",
      "pynbody.halo : An error occurred while reading substructure file. Falling back to using the halo info.\n",
      "pynbody.halo : An error occurred while reading substructure file. Falling back to using the halo info.\n",
      "pynbody.halo : An error occurred while reading substructure file. Falling back to using the halo info.\n",
      "pynbody.halo : An error occurred while reading substructure file. Falling back to using the halo info.\n",
      "pynbody.halo : An error occurred while reading substructure file. Falling back to using the halo info.\n",
      "pynbody.halo : An error occurred while reading substructure file. Falling back to using the halo info.\n",
      "pynbody.halo : An error occurred while reading substructure file. Falling back to using the halo info.\n",
      "pynbody.halo : An error occurred while reading substructure file. Falling back to using the halo info.\n",
      "pynbody.halo : An error occurred while reading substructure file. Falling back to using the halo info.\n",
      "pynbody.halo : An error occurred while reading substructure file. Falling back to using the halo info.\n",
      "pynbody.halo : An error occurred while reading substructure file. Falling back to using the halo info.\n",
      "pynbody.halo : An error occurred while reading substructure file. Falling back to using the halo info.\n",
      "pynbody.halo : An error occurred while reading substructure file. Falling back to using the halo info.\n",
      "pynbody.halo : An error occurred while reading substructure file. Falling back to using the halo info.\n",
      "pynbody.halo : An error occurred while reading substructure file. Falling back to using the halo info.\n",
      "pynbody.halo : An error occurred while reading substructure file. Falling back to using the halo info.\n"
     ]
    },
    {
     "name": "stdout",
     "output_type": "stream",
     "text": [
      "Not formed stars yet\n",
      "Not formed stars yet\n",
      "Not formed stars yet\n",
      "Not formed stars yet\n"
     ]
    },
    {
     "name": "stderr",
     "output_type": "stream",
     "text": [
      "pynbody.halo : An error occurred while reading substructure file. Falling back to using the halo info.\n"
     ]
    },
    {
     "name": "stdout",
     "output_type": "stream",
     "text": [
      "Not formed stars yet\n"
     ]
    },
    {
     "name": "stderr",
     "output_type": "stream",
     "text": [
      "pynbody.halo : An error occurred while reading substructure file. Falling back to using the halo info.\n"
     ]
    },
    {
     "name": "stdout",
     "output_type": "stream",
     "text": [
      "Not formed stars yet\n"
     ]
    },
    {
     "name": "stderr",
     "output_type": "stream",
     "text": [
      "pynbody.halo : An error occurred while reading substructure file. Falling back to using the halo info.\n"
     ]
    },
    {
     "name": "stdout",
     "output_type": "stream",
     "text": [
      "Not formed stars yet\n"
     ]
    },
    {
     "name": "stderr",
     "output_type": "stream",
     "text": [
      "pynbody.halo : An error occurred while reading substructure file. Falling back to using the halo info.\n"
     ]
    },
    {
     "name": "stdout",
     "output_type": "stream",
     "text": [
      "Not formed stars yet\n"
     ]
    },
    {
     "name": "stderr",
     "output_type": "stream",
     "text": [
      "pynbody.halo : An error occurred while reading substructure file. Falling back to using the halo info.\n"
     ]
    },
    {
     "name": "stdout",
     "output_type": "stream",
     "text": [
      "Not formed stars yet\n"
     ]
    },
    {
     "name": "stderr",
     "output_type": "stream",
     "text": [
      "pynbody.halo : An error occurred while reading substructure file. Falling back to using the halo info.\n"
     ]
    },
    {
     "name": "stdout",
     "output_type": "stream",
     "text": [
      "Not formed stars yet\n"
     ]
    },
    {
     "name": "stderr",
     "output_type": "stream",
     "text": [
      "pynbody.halo : An error occurred while reading substructure file. Falling back to using the halo info.\n"
     ]
    },
    {
     "name": "stdout",
     "output_type": "stream",
     "text": [
      "Not formed stars yet\n"
     ]
    },
    {
     "name": "stderr",
     "output_type": "stream",
     "text": [
      "pynbody.halo : An error occurred while reading substructure file. Falling back to using the halo info.\n"
     ]
    },
    {
     "name": "stdout",
     "output_type": "stream",
     "text": [
      "Not formed stars yet\n"
     ]
    },
    {
     "name": "stderr",
     "output_type": "stream",
     "text": [
      "pynbody.halo : An error occurred while reading substructure file. Falling back to using the halo info.\n"
     ]
    },
    {
     "name": "stdout",
     "output_type": "stream",
     "text": [
      "Not formed stars yet\n"
     ]
    },
    {
     "name": "stderr",
     "output_type": "stream",
     "text": [
      "pynbody.halo : An error occurred while reading substructure file. Falling back to using the halo info.\n"
     ]
    },
    {
     "name": "stdout",
     "output_type": "stream",
     "text": [
      "Not formed stars yet\n"
     ]
    },
    {
     "name": "stderr",
     "output_type": "stream",
     "text": [
      "pynbody.halo : An error occurred while reading substructure file. Falling back to using the halo info.\n"
     ]
    },
    {
     "name": "stdout",
     "output_type": "stream",
     "text": [
      "Not formed stars yet\n"
     ]
    },
    {
     "name": "stderr",
     "output_type": "stream",
     "text": [
      "pynbody.halo : An error occurred while reading substructure file. Falling back to using the halo info.\n"
     ]
    },
    {
     "name": "stdout",
     "output_type": "stream",
     "text": [
      "Not formed stars yet\n"
     ]
    },
    {
     "name": "stderr",
     "output_type": "stream",
     "text": [
      "pynbody.halo : An error occurred while reading substructure file. Falling back to using the halo info.\n"
     ]
    },
    {
     "name": "stdout",
     "output_type": "stream",
     "text": [
      "Not formed stars yet\n"
     ]
    },
    {
     "name": "stderr",
     "output_type": "stream",
     "text": [
      "pynbody.halo : An error occurred while reading substructure file. Falling back to using the halo info.\n"
     ]
    },
    {
     "name": "stdout",
     "output_type": "stream",
     "text": [
      "Not formed stars yet\n"
     ]
    },
    {
     "name": "stderr",
     "output_type": "stream",
     "text": [
      "pynbody.halo : An error occurred while reading substructure file. Falling back to using the halo info.\n"
     ]
    },
    {
     "name": "stdout",
     "output_type": "stream",
     "text": [
      "Not formed stars yet\n"
     ]
    },
    {
     "name": "stderr",
     "output_type": "stream",
     "text": [
      "pynbody.halo : An error occurred while reading substructure file. Falling back to using the halo info.\n"
     ]
    },
    {
     "name": "stdout",
     "output_type": "stream",
     "text": [
      "Not formed stars yet\n"
     ]
    },
    {
     "name": "stderr",
     "output_type": "stream",
     "text": [
      "pynbody.halo : An error occurred while reading substructure file. Falling back to using the halo info.\n"
     ]
    },
    {
     "name": "stdout",
     "output_type": "stream",
     "text": [
      "Not formed stars yet\n"
     ]
    },
    {
     "name": "stderr",
     "output_type": "stream",
     "text": [
      "pynbody.halo : An error occurred while reading substructure file. Falling back to using the halo info.\n"
     ]
    },
    {
     "name": "stdout",
     "output_type": "stream",
     "text": [
      "Not formed stars yet\n"
     ]
    },
    {
     "name": "stderr",
     "output_type": "stream",
     "text": [
      "pynbody.halo : An error occurred while reading substructure file. Falling back to using the halo info.\n"
     ]
    },
    {
     "name": "stdout",
     "output_type": "stream",
     "text": [
      "Not formed stars yet\n"
     ]
    },
    {
     "name": "stderr",
     "output_type": "stream",
     "text": [
      "pynbody.halo : An error occurred while reading substructure file. Falling back to using the halo info.\n"
     ]
    },
    {
     "name": "stdout",
     "output_type": "stream",
     "text": [
      "Not formed stars yet\n"
     ]
    },
    {
     "name": "stderr",
     "output_type": "stream",
     "text": [
      "pynbody.halo : An error occurred while reading substructure file. Falling back to using the halo info.\n"
     ]
    },
    {
     "name": "stdout",
     "output_type": "stream",
     "text": [
      "Not formed stars yet\n"
     ]
    },
    {
     "name": "stderr",
     "output_type": "stream",
     "text": [
      "pynbody.halo : An error occurred while reading substructure file. Falling back to using the halo info.\n"
     ]
    },
    {
     "name": "stdout",
     "output_type": "stream",
     "text": [
      "Not formed stars yet\n"
     ]
    },
    {
     "name": "stderr",
     "output_type": "stream",
     "text": [
      "pynbody.halo : An error occurred while reading substructure file. Falling back to using the halo info.\n"
     ]
    },
    {
     "name": "stdout",
     "output_type": "stream",
     "text": [
      "Not formed stars yet\n"
     ]
    },
    {
     "name": "stderr",
     "output_type": "stream",
     "text": [
      "pynbody.halo : An error occurred while reading substructure file. Falling back to using the halo info.\n"
     ]
    },
    {
     "name": "stdout",
     "output_type": "stream",
     "text": [
      "Not formed stars yet\n"
     ]
    },
    {
     "name": "stderr",
     "output_type": "stream",
     "text": [
      "pynbody.halo : An error occurred while reading substructure file. Falling back to using the halo info.\n"
     ]
    },
    {
     "name": "stdout",
     "output_type": "stream",
     "text": [
      "Not formed stars yet\n"
     ]
    },
    {
     "name": "stderr",
     "output_type": "stream",
     "text": [
      "pynbody.halo : An error occurred while reading substructure file. Falling back to using the halo info.\n"
     ]
    },
    {
     "name": "stdout",
     "output_type": "stream",
     "text": [
      "Not formed stars yet\n"
     ]
    },
    {
     "name": "stderr",
     "output_type": "stream",
     "text": [
      "pynbody.halo : An error occurred while reading substructure file. Falling back to using the halo info.\n"
     ]
    },
    {
     "name": "stdout",
     "output_type": "stream",
     "text": [
      "Not formed stars yet\n"
     ]
    },
    {
     "name": "stderr",
     "output_type": "stream",
     "text": [
      "pynbody.halo : An error occurred while reading substructure file. Falling back to using the halo info.\n"
     ]
    },
    {
     "name": "stdout",
     "output_type": "stream",
     "text": [
      "Not formed stars yet\n"
     ]
    },
    {
     "name": "stderr",
     "output_type": "stream",
     "text": [
      "pynbody.halo : An error occurred while reading substructure file. Falling back to using the halo info.\n"
     ]
    },
    {
     "name": "stdout",
     "output_type": "stream",
     "text": [
      "Not formed stars yet\n"
     ]
    },
    {
     "name": "stderr",
     "output_type": "stream",
     "text": [
      "pynbody.halo : An error occurred while reading substructure file. Falling back to using the halo info.\n"
     ]
    },
    {
     "name": "stdout",
     "output_type": "stream",
     "text": [
      "Not formed stars yet\n"
     ]
    },
    {
     "name": "stderr",
     "output_type": "stream",
     "text": [
      "pynbody.halo : An error occurred while reading substructure file. Falling back to using the halo info.\n"
     ]
    },
    {
     "name": "stdout",
     "output_type": "stream",
     "text": [
      "Not formed stars yet\n"
     ]
    },
    {
     "name": "stderr",
     "output_type": "stream",
     "text": [
      "pynbody.halo : An error occurred while reading substructure file. Falling back to using the halo info.\n"
     ]
    },
    {
     "name": "stdout",
     "output_type": "stream",
     "text": [
      "Not formed stars yet\n"
     ]
    },
    {
     "name": "stderr",
     "output_type": "stream",
     "text": [
      "pynbody.halo : An error occurred while reading substructure file. Falling back to using the halo info.\n"
     ]
    },
    {
     "name": "stdout",
     "output_type": "stream",
     "text": [
      "Not formed stars yet\n"
     ]
    },
    {
     "name": "stderr",
     "output_type": "stream",
     "text": [
      "pynbody.halo : An error occurred while reading substructure file. Falling back to using the halo info.\n"
     ]
    },
    {
     "name": "stdout",
     "output_type": "stream",
     "text": [
      "Not formed stars yet\n"
     ]
    },
    {
     "name": "stderr",
     "output_type": "stream",
     "text": [
      "pynbody.halo : An error occurred while reading substructure file. Falling back to using the halo info.\n"
     ]
    },
    {
     "name": "stdout",
     "output_type": "stream",
     "text": [
      "Not formed stars yet\n"
     ]
    },
    {
     "name": "stderr",
     "output_type": "stream",
     "text": [
      "pynbody.halo : An error occurred while reading substructure file. Falling back to using the halo info.\n"
     ]
    },
    {
     "name": "stdout",
     "output_type": "stream",
     "text": [
      "Not formed stars yet\n"
     ]
    },
    {
     "name": "stderr",
     "output_type": "stream",
     "text": [
      "pynbody.halo : An error occurred while reading substructure file. Falling back to using the halo info.\n"
     ]
    },
    {
     "name": "stdout",
     "output_type": "stream",
     "text": [
      "Not formed stars yet\n"
     ]
    },
    {
     "name": "stderr",
     "output_type": "stream",
     "text": [
      "pynbody.halo : An error occurred while reading substructure file. Falling back to using the halo info.\n"
     ]
    },
    {
     "name": "stdout",
     "output_type": "stream",
     "text": [
      "Not formed stars yet\n"
     ]
    },
    {
     "name": "stderr",
     "output_type": "stream",
     "text": [
      "pynbody.halo : An error occurred while reading substructure file. Falling back to using the halo info.\n"
     ]
    },
    {
     "name": "stdout",
     "output_type": "stream",
     "text": [
      "Not formed stars yet\n"
     ]
    },
    {
     "name": "stderr",
     "output_type": "stream",
     "text": [
      "pynbody.halo : An error occurred while reading substructure file. Falling back to using the halo info.\n"
     ]
    },
    {
     "name": "stdout",
     "output_type": "stream",
     "text": [
      "Not formed stars yet\n"
     ]
    },
    {
     "name": "stderr",
     "output_type": "stream",
     "text": [
      "pynbody.halo : An error occurred while reading substructure file. Falling back to using the halo info.\n"
     ]
    },
    {
     "name": "stdout",
     "output_type": "stream",
     "text": [
      "Not formed stars yet\n"
     ]
    },
    {
     "name": "stderr",
     "output_type": "stream",
     "text": [
      "pynbody.halo : An error occurred while reading substructure file. Falling back to using the halo info.\n"
     ]
    },
    {
     "name": "stdout",
     "output_type": "stream",
     "text": [
      "Not formed stars yet\n"
     ]
    },
    {
     "name": "stderr",
     "output_type": "stream",
     "text": [
      "pynbody.halo : An error occurred while reading substructure file. Falling back to using the halo info.\n"
     ]
    },
    {
     "name": "stdout",
     "output_type": "stream",
     "text": [
      "Not formed stars yet\n"
     ]
    },
    {
     "name": "stderr",
     "output_type": "stream",
     "text": [
      "pynbody.halo : An error occurred while reading substructure file. Falling back to using the halo info.\n"
     ]
    },
    {
     "name": "stdout",
     "output_type": "stream",
     "text": [
      "Not formed stars yet\n"
     ]
    },
    {
     "name": "stderr",
     "output_type": "stream",
     "text": [
      "pynbody.halo : An error occurred while reading substructure file. Falling back to using the halo info.\n"
     ]
    },
    {
     "name": "stdout",
     "output_type": "stream",
     "text": [
      "Not formed stars yet\n"
     ]
    },
    {
     "name": "stderr",
     "output_type": "stream",
     "text": [
      "pynbody.halo : An error occurred while reading substructure file. Falling back to using the halo info.\n"
     ]
    },
    {
     "name": "stdout",
     "output_type": "stream",
     "text": [
      "Not formed stars yet\n"
     ]
    },
    {
     "name": "stderr",
     "output_type": "stream",
     "text": [
      "pynbody.halo : An error occurred while reading substructure file. Falling back to using the halo info.\n"
     ]
    },
    {
     "name": "stdout",
     "output_type": "stream",
     "text": [
      "Not formed stars yet\n"
     ]
    },
    {
     "name": "stderr",
     "output_type": "stream",
     "text": [
      "pynbody.halo : An error occurred while reading substructure file. Falling back to using the halo info.\n"
     ]
    },
    {
     "name": "stdout",
     "output_type": "stream",
     "text": [
      "Not formed stars yet\n"
     ]
    },
    {
     "name": "stderr",
     "output_type": "stream",
     "text": [
      "pynbody.halo : An error occurred while reading substructure file. Falling back to using the halo info.\n"
     ]
    },
    {
     "name": "stdout",
     "output_type": "stream",
     "text": [
      "Not formed stars yet\n"
     ]
    },
    {
     "name": "stderr",
     "output_type": "stream",
     "text": [
      "pynbody.halo : An error occurred while reading substructure file. Falling back to using the halo info.\n"
     ]
    },
    {
     "name": "stdout",
     "output_type": "stream",
     "text": [
      "Not formed stars yet\n"
     ]
    },
    {
     "name": "stderr",
     "output_type": "stream",
     "text": [
      "pynbody.halo : An error occurred while reading substructure file. Falling back to using the halo info.\n"
     ]
    },
    {
     "name": "stdout",
     "output_type": "stream",
     "text": [
      "Not formed stars yet\n"
     ]
    },
    {
     "name": "stderr",
     "output_type": "stream",
     "text": [
      "pynbody.halo : An error occurred while reading substructure file. Falling back to using the halo info.\n"
     ]
    },
    {
     "name": "stdout",
     "output_type": "stream",
     "text": [
      "Not formed stars yet\n"
     ]
    },
    {
     "name": "stderr",
     "output_type": "stream",
     "text": [
      "pynbody.halo : An error occurred while reading substructure file. Falling back to using the halo info.\n"
     ]
    },
    {
     "name": "stdout",
     "output_type": "stream",
     "text": [
      "Not formed stars yet\n"
     ]
    },
    {
     "name": "stderr",
     "output_type": "stream",
     "text": [
      "pynbody.halo : An error occurred while reading substructure file. Falling back to using the halo info.\n"
     ]
    },
    {
     "name": "stdout",
     "output_type": "stream",
     "text": [
      "Not formed stars yet\n"
     ]
    },
    {
     "name": "stderr",
     "output_type": "stream",
     "text": [
      "pynbody.halo : An error occurred while reading substructure file. Falling back to using the halo info.\n"
     ]
    },
    {
     "name": "stdout",
     "output_type": "stream",
     "text": [
      "Not formed stars yet\n"
     ]
    },
    {
     "name": "stderr",
     "output_type": "stream",
     "text": [
      "pynbody.halo : An error occurred while reading substructure file. Falling back to using the halo info.\n"
     ]
    },
    {
     "name": "stdout",
     "output_type": "stream",
     "text": [
      "Not formed stars yet\n"
     ]
    },
    {
     "name": "stderr",
     "output_type": "stream",
     "text": [
      "pynbody.halo : An error occurred while reading substructure file. Falling back to using the halo info.\n"
     ]
    },
    {
     "name": "stdout",
     "output_type": "stream",
     "text": [
      "Not formed stars yet\n"
     ]
    },
    {
     "name": "stderr",
     "output_type": "stream",
     "text": [
      "pynbody.halo : An error occurred while reading substructure file. Falling back to using the halo info.\n"
     ]
    },
    {
     "name": "stdout",
     "output_type": "stream",
     "text": [
      "Not formed stars yet\n"
     ]
    },
    {
     "name": "stderr",
     "output_type": "stream",
     "text": [
      "pynbody.halo : An error occurred while reading substructure file. Falling back to using the halo info.\n"
     ]
    },
    {
     "name": "stdout",
     "output_type": "stream",
     "text": [
      "Not formed stars yet\n"
     ]
    },
    {
     "name": "stderr",
     "output_type": "stream",
     "text": [
      "pynbody.halo : An error occurred while reading substructure file. Falling back to using the halo info.\n"
     ]
    },
    {
     "name": "stdout",
     "output_type": "stream",
     "text": [
      "Not formed stars yet\n",
      "Not formed stars yet\n"
     ]
    },
    {
     "name": "stderr",
     "output_type": "stream",
     "text": [
      "pynbody.halo : An error occurred while reading substructure file. Falling back to using the halo info.\n",
      "pynbody.halo : An error occurred while reading substructure file. Falling back to using the halo info.\n",
      "pynbody.halo : An error occurred while reading substructure file. Falling back to using the halo info.\n",
      "pynbody.halo : An error occurred while reading substructure file. Falling back to using the halo info.\n",
      "pynbody.halo : An error occurred while reading substructure file. Falling back to using the halo info.\n",
      "pynbody.halo : An error occurred while reading substructure file. Falling back to using the halo info.\n",
      "pynbody.halo : An error occurred while reading substructure file. Falling back to using the halo info.\n",
      "pynbody.halo : An error occurred while reading substructure file. Falling back to using the halo info.\n",
      "pynbody.halo : An error occurred while reading substructure file. Falling back to using the halo info.\n",
      "pynbody.halo : An error occurred while reading substructure file. Falling back to using the halo info.\n",
      "pynbody.halo : An error occurred while reading substructure file. Falling back to using the halo info.\n",
      "pynbody.halo : An error occurred while reading substructure file. Falling back to using the halo info.\n",
      "pynbody.halo : An error occurred while reading substructure file. Falling back to using the halo info.\n",
      "pynbody.halo : An error occurred while reading substructure file. Falling back to using the halo info.\n",
      "pynbody.halo : An error occurred while reading substructure file. Falling back to using the halo info.\n",
      "pynbody.halo : An error occurred while reading substructure file. Falling back to using the halo info.\n",
      "pynbody.halo : An error occurred while reading substructure file. Falling back to using the halo info.\n",
      "pynbody.halo : An error occurred while reading substructure file. Falling back to using the halo info.\n",
      "pynbody.halo : An error occurred while reading substructure file. Falling back to using the halo info.\n",
      "pynbody.halo : An error occurred while reading substructure file. Falling back to using the halo info.\n",
      "pynbody.halo : An error occurred while reading substructure file. Falling back to using the halo info.\n",
      "pynbody.halo : An error occurred while reading substructure file. Falling back to using the halo info.\n",
      "pynbody.halo : An error occurred while reading substructure file. Falling back to using the halo info.\n",
      "pynbody.halo : An error occurred while reading substructure file. Falling back to using the halo info.\n",
      "pynbody.halo : An error occurred while reading substructure file. Falling back to using the halo info.\n",
      "pynbody.halo : An error occurred while reading substructure file. Falling back to using the halo info.\n",
      "pynbody.halo : An error occurred while reading substructure file. Falling back to using the halo info.\n",
      "pynbody.halo : An error occurred while reading substructure file. Falling back to using the halo info.\n",
      "pynbody.halo : An error occurred while reading substructure file. Falling back to using the halo info.\n",
      "pynbody.halo : An error occurred while reading substructure file. Falling back to using the halo info.\n",
      "pynbody.halo : An error occurred while reading substructure file. Falling back to using the halo info.\n",
      "pynbody.halo : An error occurred while reading substructure file. Falling back to using the halo info.\n",
      "pynbody.halo : An error occurred while reading substructure file. Falling back to using the halo info.\n",
      "pynbody.halo : An error occurred while reading substructure file. Falling back to using the halo info.\n",
      "pynbody.halo : An error occurred while reading substructure file. Falling back to using the halo info.\n",
      "pynbody.halo : An error occurred while reading substructure file. Falling back to using the halo info.\n",
      "pynbody.halo : An error occurred while reading substructure file. Falling back to using the halo info.\n",
      "pynbody.halo : An error occurred while reading substructure file. Falling back to using the halo info.\n",
      "pynbody.halo : An error occurred while reading substructure file. Falling back to using the halo info.\n",
      "pynbody.halo : An error occurred while reading substructure file. Falling back to using the halo info.\n",
      "pynbody.halo : An error occurred while reading substructure file. Falling back to using the halo info.\n",
      "pynbody.halo : An error occurred while reading substructure file. Falling back to using the halo info.\n",
      "pynbody.halo : An error occurred while reading substructure file. Falling back to using the halo info.\n",
      "pynbody.halo : An error occurred while reading substructure file. Falling back to using the halo info.\n",
      "pynbody.halo : An error occurred while reading substructure file. Falling back to using the halo info.\n",
      "pynbody.halo : An error occurred while reading substructure file. Falling back to using the halo info.\n",
      "pynbody.halo : An error occurred while reading substructure file. Falling back to using the halo info.\n",
      "pynbody.halo : An error occurred while reading substructure file. Falling back to using the halo info.\n",
      "pynbody.halo : An error occurred while reading substructure file. Falling back to using the halo info.\n",
      "pynbody.halo : An error occurred while reading substructure file. Falling back to using the halo info.\n",
      "pynbody.halo : An error occurred while reading substructure file. Falling back to using the halo info.\n",
      "pynbody.halo : An error occurred while reading substructure file. Falling back to using the halo info.\n",
      "pynbody.halo : An error occurred while reading substructure file. Falling back to using the halo info.\n",
      "pynbody.halo : An error occurred while reading substructure file. Falling back to using the halo info.\n",
      "pynbody.halo : An error occurred while reading substructure file. Falling back to using the halo info.\n",
      "pynbody.halo : An error occurred while reading substructure file. Falling back to using the halo info.\n",
      "pynbody.halo : An error occurred while reading substructure file. Falling back to using the halo info.\n",
      "pynbody.halo : An error occurred while reading substructure file. Falling back to using the halo info.\n",
      "pynbody.halo : An error occurred while reading substructure file. Falling back to using the halo info.\n",
      "pynbody.halo : An error occurred while reading substructure file. Falling back to using the halo info.\n",
      "pynbody.halo : An error occurred while reading substructure file. Falling back to using the halo info.\n",
      "pynbody.halo : An error occurred while reading substructure file. Falling back to using the halo info.\n",
      "pynbody.halo : An error occurred while reading substructure file. Falling back to using the halo info.\n"
     ]
    },
    {
     "name": "stdout",
     "output_type": "stream",
     "text": [
      "Not formed stars yet\n"
     ]
    },
    {
     "name": "stderr",
     "output_type": "stream",
     "text": [
      "pynbody.halo : An error occurred while reading substructure file. Falling back to using the halo info.\n",
      "pynbody.halo : An error occurred while reading substructure file. Falling back to using the halo info.\n",
      "pynbody.halo : An error occurred while reading substructure file. Falling back to using the halo info.\n",
      "pynbody.halo : An error occurred while reading substructure file. Falling back to using the halo info.\n",
      "pynbody.halo : An error occurred while reading substructure file. Falling back to using the halo info.\n",
      "pynbody.halo : An error occurred while reading substructure file. Falling back to using the halo info.\n",
      "pynbody.halo : An error occurred while reading substructure file. Falling back to using the halo info.\n",
      "pynbody.halo : An error occurred while reading substructure file. Falling back to using the halo info.\n",
      "pynbody.halo : An error occurred while reading substructure file. Falling back to using the halo info.\n",
      "pynbody.halo : An error occurred while reading substructure file. Falling back to using the halo info.\n",
      "pynbody.halo : An error occurred while reading substructure file. Falling back to using the halo info.\n",
      "pynbody.halo : An error occurred while reading substructure file. Falling back to using the halo info.\n",
      "pynbody.halo : An error occurred while reading substructure file. Falling back to using the halo info.\n",
      "pynbody.halo : An error occurred while reading substructure file. Falling back to using the halo info.\n",
      "pynbody.halo : An error occurred while reading substructure file. Falling back to using the halo info.\n",
      "pynbody.halo : An error occurred while reading substructure file. Falling back to using the halo info.\n",
      "pynbody.halo : An error occurred while reading substructure file. Falling back to using the halo info.\n",
      "pynbody.halo : An error occurred while reading substructure file. Falling back to using the halo info.\n",
      "pynbody.halo : An error occurred while reading substructure file. Falling back to using the halo info.\n",
      "pynbody.halo : An error occurred while reading substructure file. Falling back to using the halo info.\n",
      "pynbody.halo : An error occurred while reading substructure file. Falling back to using the halo info.\n",
      "pynbody.halo : An error occurred while reading substructure file. Falling back to using the halo info.\n",
      "pynbody.halo : An error occurred while reading substructure file. Falling back to using the halo info.\n",
      "pynbody.halo : An error occurred while reading substructure file. Falling back to using the halo info.\n",
      "pynbody.halo : An error occurred while reading substructure file. Falling back to using the halo info.\n",
      "pynbody.halo : An error occurred while reading substructure file. Falling back to using the halo info.\n",
      "pynbody.halo : An error occurred while reading substructure file. Falling back to using the halo info.\n",
      "pynbody.halo : An error occurred while reading substructure file. Falling back to using the halo info.\n",
      "pynbody.halo : An error occurred while reading substructure file. Falling back to using the halo info.\n",
      "pynbody.halo : An error occurred while reading substructure file. Falling back to using the halo info.\n",
      "pynbody.halo : An error occurred while reading substructure file. Falling back to using the halo info.\n",
      "pynbody.halo : An error occurred while reading substructure file. Falling back to using the halo info.\n",
      "pynbody.halo : An error occurred while reading substructure file. Falling back to using the halo info.\n",
      "pynbody.halo : An error occurred while reading substructure file. Falling back to using the halo info.\n",
      "pynbody.halo : An error occurred while reading substructure file. Falling back to using the halo info.\n",
      "pynbody.halo : An error occurred while reading substructure file. Falling back to using the halo info.\n",
      "pynbody.halo : An error occurred while reading substructure file. Falling back to using the halo info.\n",
      "pynbody.halo : An error occurred while reading substructure file. Falling back to using the halo info.\n",
      "pynbody.halo : An error occurred while reading substructure file. Falling back to using the halo info.\n",
      "pynbody.halo : An error occurred while reading substructure file. Falling back to using the halo info.\n",
      "pynbody.halo : An error occurred while reading substructure file. Falling back to using the halo info.\n",
      "pynbody.halo : An error occurred while reading substructure file. Falling back to using the halo info.\n",
      "pynbody.halo : An error occurred while reading substructure file. Falling back to using the halo info.\n",
      "pynbody.halo : An error occurred while reading substructure file. Falling back to using the halo info.\n",
      "pynbody.halo : An error occurred while reading substructure file. Falling back to using the halo info.\n",
      "pynbody.halo : An error occurred while reading substructure file. Falling back to using the halo info.\n",
      "pynbody.halo : An error occurred while reading substructure file. Falling back to using the halo info.\n",
      "pynbody.halo : An error occurred while reading substructure file. Falling back to using the halo info.\n",
      "pynbody.halo : An error occurred while reading substructure file. Falling back to using the halo info.\n",
      "pynbody.halo : An error occurred while reading substructure file. Falling back to using the halo info.\n",
      "pynbody.halo : An error occurred while reading substructure file. Falling back to using the halo info.\n",
      "pynbody.halo : An error occurred while reading substructure file. Falling back to using the halo info.\n",
      "pynbody.halo : An error occurred while reading substructure file. Falling back to using the halo info.\n",
      "pynbody.halo : An error occurred while reading substructure file. Falling back to using the halo info.\n",
      "pynbody.halo : An error occurred while reading substructure file. Falling back to using the halo info.\n",
      "pynbody.halo : An error occurred while reading substructure file. Falling back to using the halo info.\n",
      "pynbody.halo : An error occurred while reading substructure file. Falling back to using the halo info.\n",
      "pynbody.halo : An error occurred while reading substructure file. Falling back to using the halo info.\n",
      "pynbody.halo : An error occurred while reading substructure file. Falling back to using the halo info.\n",
      "pynbody.halo : An error occurred while reading substructure file. Falling back to using the halo info.\n",
      "pynbody.halo : An error occurred while reading substructure file. Falling back to using the halo info.\n",
      "pynbody.halo : An error occurred while reading substructure file. Falling back to using the halo info.\n",
      "pynbody.halo : An error occurred while reading substructure file. Falling back to using the halo info.\n",
      "pynbody.halo : An error occurred while reading substructure file. Falling back to using the halo info.\n",
      "pynbody.halo : An error occurred while reading substructure file. Falling back to using the halo info.\n",
      "pynbody.halo : An error occurred while reading substructure file. Falling back to using the halo info.\n",
      "pynbody.halo : An error occurred while reading substructure file. Falling back to using the halo info.\n",
      "pynbody.halo : An error occurred while reading substructure file. Falling back to using the halo info.\n",
      "pynbody.halo : An error occurred while reading substructure file. Falling back to using the halo info.\n",
      "pynbody.halo : An error occurred while reading substructure file. Falling back to using the halo info.\n",
      "pynbody.halo : An error occurred while reading substructure file. Falling back to using the halo info.\n",
      "pynbody.halo : An error occurred while reading substructure file. Falling back to using the halo info.\n",
      "pynbody.halo : An error occurred while reading substructure file. Falling back to using the halo info.\n",
      "pynbody.halo : An error occurred while reading substructure file. Falling back to using the halo info.\n",
      "pynbody.halo : An error occurred while reading substructure file. Falling back to using the halo info.\n",
      "pynbody.halo : An error occurred while reading substructure file. Falling back to using the halo info.\n",
      "pynbody.halo : An error occurred while reading substructure file. Falling back to using the halo info.\n",
      "pynbody.halo : An error occurred while reading substructure file. Falling back to using the halo info.\n",
      "pynbody.halo : An error occurred while reading substructure file. Falling back to using the halo info.\n",
      "pynbody.halo : An error occurred while reading substructure file. Falling back to using the halo info.\n",
      "pynbody.halo : An error occurred while reading substructure file. Falling back to using the halo info.\n",
      "pynbody.halo : An error occurred while reading substructure file. Falling back to using the halo info.\n",
      "pynbody.halo : An error occurred while reading substructure file. Falling back to using the halo info.\n",
      "pynbody.halo : An error occurred while reading substructure file. Falling back to using the halo info.\n",
      "pynbody.halo : An error occurred while reading substructure file. Falling back to using the halo info.\n",
      "pynbody.halo : An error occurred while reading substructure file. Falling back to using the halo info.\n",
      "pynbody.halo : An error occurred while reading substructure file. Falling back to using the halo info.\n",
      "pynbody.halo : An error occurred while reading substructure file. Falling back to using the halo info.\n",
      "pynbody.halo : An error occurred while reading substructure file. Falling back to using the halo info.\n",
      "pynbody.halo : An error occurred while reading substructure file. Falling back to using the halo info.\n",
      "pynbody.halo : An error occurred while reading substructure file. Falling back to using the halo info.\n",
      "pynbody.halo : An error occurred while reading substructure file. Falling back to using the halo info.\n",
      "pynbody.halo : An error occurred while reading substructure file. Falling back to using the halo info.\n",
      "pynbody.halo : An error occurred while reading substructure file. Falling back to using the halo info.\n",
      "pynbody.halo : An error occurred while reading substructure file. Falling back to using the halo info.\n",
      "pynbody.halo : An error occurred while reading substructure file. Falling back to using the halo info.\n",
      "pynbody.halo : An error occurred while reading substructure file. Falling back to using the halo info.\n",
      "pynbody.halo : An error occurred while reading substructure file. Falling back to using the halo info.\n",
      "pynbody.halo : An error occurred while reading substructure file. Falling back to using the halo info.\n",
      "pynbody.halo : An error occurred while reading substructure file. Falling back to using the halo info.\n",
      "pynbody.halo : An error occurred while reading substructure file. Falling back to using the halo info.\n",
      "pynbody.halo : An error occurred while reading substructure file. Falling back to using the halo info.\n",
      "pynbody.halo : An error occurred while reading substructure file. Falling back to using the halo info.\n",
      "pynbody.halo : An error occurred while reading substructure file. Falling back to using the halo info.\n",
      "pynbody.halo : An error occurred while reading substructure file. Falling back to using the halo info.\n",
      "pynbody.halo : An error occurred while reading substructure file. Falling back to using the halo info.\n",
      "pynbody.halo : An error occurred while reading substructure file. Falling back to using the halo info.\n",
      "pynbody.halo : An error occurred while reading substructure file. Falling back to using the halo info.\n",
      "pynbody.halo : An error occurred while reading substructure file. Falling back to using the halo info.\n",
      "pynbody.halo : An error occurred while reading substructure file. Falling back to using the halo info.\n",
      "pynbody.halo : An error occurred while reading substructure file. Falling back to using the halo info.\n",
      "pynbody.halo : An error occurred while reading substructure file. Falling back to using the halo info.\n",
      "pynbody.halo : An error occurred while reading substructure file. Falling back to using the halo info.\n",
      "pynbody.halo : An error occurred while reading substructure file. Falling back to using the halo info.\n",
      "pynbody.halo : An error occurred while reading substructure file. Falling back to using the halo info.\n",
      "pynbody.halo : An error occurred while reading substructure file. Falling back to using the halo info.\n",
      "pynbody.halo : An error occurred while reading substructure file. Falling back to using the halo info.\n",
      "pynbody.halo : An error occurred while reading substructure file. Falling back to using the halo info.\n",
      "pynbody.halo : An error occurred while reading substructure file. Falling back to using the halo info.\n",
      "pynbody.halo : An error occurred while reading substructure file. Falling back to using the halo info.\n",
      "pynbody.halo : An error occurred while reading substructure file. Falling back to using the halo info.\n",
      "pynbody.halo : An error occurred while reading substructure file. Falling back to using the halo info.\n",
      "pynbody.halo : An error occurred while reading substructure file. Falling back to using the halo info.\n",
      "pynbody.halo : An error occurred while reading substructure file. Falling back to using the halo info.\n",
      "pynbody.halo : An error occurred while reading substructure file. Falling back to using the halo info.\n",
      "pynbody.halo : An error occurred while reading substructure file. Falling back to using the halo info.\n",
      "pynbody.halo : An error occurred while reading substructure file. Falling back to using the halo info.\n"
     ]
    },
    {
     "name": "stdout",
     "output_type": "stream",
     "text": [
      "Not formed stars yet\n"
     ]
    },
    {
     "name": "stderr",
     "output_type": "stream",
     "text": [
      "pynbody.halo : An error occurred while reading substructure file. Falling back to using the halo info.\n",
      "pynbody.halo : An error occurred while reading substructure file. Falling back to using the halo info.\n",
      "pynbody.halo : An error occurred while reading substructure file. Falling back to using the halo info.\n",
      "pynbody.halo : An error occurred while reading substructure file. Falling back to using the halo info.\n",
      "pynbody.halo : An error occurred while reading substructure file. Falling back to using the halo info.\n",
      "pynbody.halo : An error occurred while reading substructure file. Falling back to using the halo info.\n",
      "pynbody.halo : An error occurred while reading substructure file. Falling back to using the halo info.\n",
      "pynbody.halo : An error occurred while reading substructure file. Falling back to using the halo info.\n",
      "pynbody.halo : An error occurred while reading substructure file. Falling back to using the halo info.\n",
      "pynbody.halo : An error occurred while reading substructure file. Falling back to using the halo info.\n",
      "pynbody.halo : An error occurred while reading substructure file. Falling back to using the halo info.\n",
      "pynbody.halo : An error occurred while reading substructure file. Falling back to using the halo info.\n",
      "pynbody.halo : An error occurred while reading substructure file. Falling back to using the halo info.\n",
      "pynbody.halo : An error occurred while reading substructure file. Falling back to using the halo info.\n",
      "pynbody.halo : An error occurred while reading substructure file. Falling back to using the halo info.\n",
      "pynbody.halo : An error occurred while reading substructure file. Falling back to using the halo info.\n",
      "pynbody.halo : An error occurred while reading substructure file. Falling back to using the halo info.\n",
      "pynbody.halo : An error occurred while reading substructure file. Falling back to using the halo info.\n",
      "pynbody.halo : An error occurred while reading substructure file. Falling back to using the halo info.\n",
      "pynbody.halo : An error occurred while reading substructure file. Falling back to using the halo info.\n",
      "pynbody.halo : An error occurred while reading substructure file. Falling back to using the halo info.\n",
      "pynbody.halo : An error occurred while reading substructure file. Falling back to using the halo info.\n",
      "pynbody.halo : An error occurred while reading substructure file. Falling back to using the halo info.\n",
      "pynbody.halo : An error occurred while reading substructure file. Falling back to using the halo info.\n",
      "pynbody.halo : An error occurred while reading substructure file. Falling back to using the halo info.\n",
      "pynbody.halo : An error occurred while reading substructure file. Falling back to using the halo info.\n",
      "pynbody.halo : An error occurred while reading substructure file. Falling back to using the halo info.\n",
      "pynbody.halo : An error occurred while reading substructure file. Falling back to using the halo info.\n",
      "pynbody.halo : An error occurred while reading substructure file. Falling back to using the halo info.\n",
      "pynbody.halo : An error occurred while reading substructure file. Falling back to using the halo info.\n",
      "pynbody.halo : An error occurred while reading substructure file. Falling back to using the halo info.\n",
      "pynbody.halo : An error occurred while reading substructure file. Falling back to using the halo info.\n",
      "pynbody.halo : An error occurred while reading substructure file. Falling back to using the halo info.\n",
      "pynbody.halo : An error occurred while reading substructure file. Falling back to using the halo info.\n",
      "pynbody.halo : An error occurred while reading substructure file. Falling back to using the halo info.\n",
      "pynbody.halo : An error occurred while reading substructure file. Falling back to using the halo info.\n",
      "pynbody.halo : An error occurred while reading substructure file. Falling back to using the halo info.\n",
      "pynbody.halo : An error occurred while reading substructure file. Falling back to using the halo info.\n",
      "pynbody.halo : An error occurred while reading substructure file. Falling back to using the halo info.\n",
      "pynbody.halo : An error occurred while reading substructure file. Falling back to using the halo info.\n",
      "pynbody.halo : An error occurred while reading substructure file. Falling back to using the halo info.\n",
      "pynbody.halo : An error occurred while reading substructure file. Falling back to using the halo info.\n",
      "pynbody.halo : An error occurred while reading substructure file. Falling back to using the halo info.\n",
      "pynbody.halo : An error occurred while reading substructure file. Falling back to using the halo info.\n",
      "pynbody.halo : An error occurred while reading substructure file. Falling back to using the halo info.\n",
      "pynbody.halo : An error occurred while reading substructure file. Falling back to using the halo info.\n",
      "pynbody.halo : An error occurred while reading substructure file. Falling back to using the halo info.\n",
      "pynbody.halo : An error occurred while reading substructure file. Falling back to using the halo info.\n",
      "pynbody.halo : An error occurred while reading substructure file. Falling back to using the halo info.\n",
      "pynbody.halo : An error occurred while reading substructure file. Falling back to using the halo info.\n",
      "pynbody.halo : An error occurred while reading substructure file. Falling back to using the halo info.\n",
      "pynbody.halo : An error occurred while reading substructure file. Falling back to using the halo info.\n",
      "pynbody.halo : An error occurred while reading substructure file. Falling back to using the halo info.\n",
      "pynbody.halo : An error occurred while reading substructure file. Falling back to using the halo info.\n",
      "pynbody.halo : An error occurred while reading substructure file. Falling back to using the halo info.\n",
      "pynbody.halo : An error occurred while reading substructure file. Falling back to using the halo info.\n",
      "pynbody.halo : An error occurred while reading substructure file. Falling back to using the halo info.\n",
      "pynbody.halo : An error occurred while reading substructure file. Falling back to using the halo info.\n",
      "pynbody.halo : An error occurred while reading substructure file. Falling back to using the halo info.\n",
      "pynbody.halo : An error occurred while reading substructure file. Falling back to using the halo info.\n",
      "pynbody.halo : An error occurred while reading substructure file. Falling back to using the halo info.\n",
      "pynbody.halo : An error occurred while reading substructure file. Falling back to using the halo info.\n"
     ]
    },
    {
     "name": "stdout",
     "output_type": "stream",
     "text": [
      "Not formed stars yet\n"
     ]
    },
    {
     "name": "stderr",
     "output_type": "stream",
     "text": [
      "pynbody.halo : An error occurred while reading substructure file. Falling back to using the halo info.\n",
      "pynbody.halo : An error occurred while reading substructure file. Falling back to using the halo info.\n",
      "pynbody.halo : An error occurred while reading substructure file. Falling back to using the halo info.\n",
      "pynbody.halo : An error occurred while reading substructure file. Falling back to using the halo info.\n",
      "pynbody.halo : An error occurred while reading substructure file. Falling back to using the halo info.\n",
      "pynbody.halo : An error occurred while reading substructure file. Falling back to using the halo info.\n",
      "pynbody.halo : An error occurred while reading substructure file. Falling back to using the halo info.\n",
      "pynbody.halo : An error occurred while reading substructure file. Falling back to using the halo info.\n",
      "pynbody.halo : An error occurred while reading substructure file. Falling back to using the halo info.\n",
      "pynbody.halo : An error occurred while reading substructure file. Falling back to using the halo info.\n",
      "pynbody.halo : An error occurred while reading substructure file. Falling back to using the halo info.\n",
      "pynbody.halo : An error occurred while reading substructure file. Falling back to using the halo info.\n",
      "pynbody.halo : An error occurred while reading substructure file. Falling back to using the halo info.\n",
      "pynbody.halo : An error occurred while reading substructure file. Falling back to using the halo info.\n",
      "pynbody.halo : An error occurred while reading substructure file. Falling back to using the halo info.\n",
      "pynbody.halo : An error occurred while reading substructure file. Falling back to using the halo info.\n",
      "pynbody.halo : An error occurred while reading substructure file. Falling back to using the halo info.\n",
      "pynbody.halo : An error occurred while reading substructure file. Falling back to using the halo info.\n",
      "pynbody.halo : An error occurred while reading substructure file. Falling back to using the halo info.\n",
      "pynbody.halo : An error occurred while reading substructure file. Falling back to using the halo info.\n",
      "pynbody.halo : An error occurred while reading substructure file. Falling back to using the halo info.\n",
      "pynbody.halo : An error occurred while reading substructure file. Falling back to using the halo info.\n",
      "pynbody.halo : An error occurred while reading substructure file. Falling back to using the halo info.\n",
      "pynbody.halo : An error occurred while reading substructure file. Falling back to using the halo info.\n",
      "pynbody.halo : An error occurred while reading substructure file. Falling back to using the halo info.\n",
      "pynbody.halo : An error occurred while reading substructure file. Falling back to using the halo info.\n",
      "pynbody.halo : An error occurred while reading substructure file. Falling back to using the halo info.\n",
      "pynbody.halo : An error occurred while reading substructure file. Falling back to using the halo info.\n",
      "pynbody.halo : An error occurred while reading substructure file. Falling back to using the halo info.\n",
      "pynbody.halo : An error occurred while reading substructure file. Falling back to using the halo info.\n",
      "pynbody.halo : An error occurred while reading substructure file. Falling back to using the halo info.\n",
      "pynbody.halo : An error occurred while reading substructure file. Falling back to using the halo info.\n",
      "pynbody.halo : An error occurred while reading substructure file. Falling back to using the halo info.\n",
      "pynbody.halo : An error occurred while reading substructure file. Falling back to using the halo info.\n",
      "pynbody.halo : An error occurred while reading substructure file. Falling back to using the halo info.\n",
      "pynbody.halo : An error occurred while reading substructure file. Falling back to using the halo info.\n",
      "pynbody.halo : An error occurred while reading substructure file. Falling back to using the halo info.\n",
      "pynbody.halo : An error occurred while reading substructure file. Falling back to using the halo info.\n",
      "pynbody.halo : An error occurred while reading substructure file. Falling back to using the halo info.\n",
      "pynbody.halo : An error occurred while reading substructure file. Falling back to using the halo info.\n",
      "pynbody.halo : An error occurred while reading substructure file. Falling back to using the halo info.\n",
      "pynbody.halo : An error occurred while reading substructure file. Falling back to using the halo info.\n",
      "pynbody.halo : An error occurred while reading substructure file. Falling back to using the halo info.\n",
      "pynbody.halo : An error occurred while reading substructure file. Falling back to using the halo info.\n",
      "pynbody.halo : An error occurred while reading substructure file. Falling back to using the halo info.\n",
      "pynbody.halo : An error occurred while reading substructure file. Falling back to using the halo info.\n",
      "pynbody.halo : An error occurred while reading substructure file. Falling back to using the halo info.\n",
      "pynbody.halo : An error occurred while reading substructure file. Falling back to using the halo info.\n",
      "pynbody.halo : An error occurred while reading substructure file. Falling back to using the halo info.\n",
      "pynbody.halo : An error occurred while reading substructure file. Falling back to using the halo info.\n",
      "pynbody.halo : An error occurred while reading substructure file. Falling back to using the halo info.\n",
      "pynbody.halo : An error occurred while reading substructure file. Falling back to using the halo info.\n",
      "pynbody.halo : An error occurred while reading substructure file. Falling back to using the halo info.\n",
      "pynbody.halo : An error occurred while reading substructure file. Falling back to using the halo info.\n",
      "pynbody.halo : An error occurred while reading substructure file. Falling back to using the halo info.\n",
      "pynbody.halo : An error occurred while reading substructure file. Falling back to using the halo info.\n",
      "pynbody.halo : An error occurred while reading substructure file. Falling back to using the halo info.\n",
      "pynbody.halo : An error occurred while reading substructure file. Falling back to using the halo info.\n",
      "pynbody.halo : An error occurred while reading substructure file. Falling back to using the halo info.\n",
      "pynbody.halo : An error occurred while reading substructure file. Falling back to using the halo info.\n",
      "pynbody.halo : An error occurred while reading substructure file. Falling back to using the halo info.\n",
      "pynbody.halo : An error occurred while reading substructure file. Falling back to using the halo info.\n",
      "pynbody.halo : An error occurred while reading substructure file. Falling back to using the halo info.\n"
     ]
    },
    {
     "name": "stdout",
     "output_type": "stream",
     "text": [
      "Halo error g1.77e12.00016\n"
     ]
    },
    {
     "name": "stderr",
     "output_type": "stream",
     "text": [
      "pynbody.halo : An error occurred while reading substructure file. Falling back to using the halo info.\n",
      "pynbody.halo : An error occurred while reading substructure file. Falling back to using the halo info.\n",
      "pynbody.halo : An error occurred while reading substructure file. Falling back to using the halo info.\n",
      "pynbody.halo : An error occurred while reading substructure file. Falling back to using the halo info.\n",
      "pynbody.halo : An error occurred while reading substructure file. Falling back to using the halo info.\n",
      "pynbody.halo : An error occurred while reading substructure file. Falling back to using the halo info.\n",
      "pynbody.halo : An error occurred while reading substructure file. Falling back to using the halo info.\n",
      "pynbody.halo : An error occurred while reading substructure file. Falling back to using the halo info.\n",
      "pynbody.halo : An error occurred while reading substructure file. Falling back to using the halo info.\n",
      "pynbody.halo : An error occurred while reading substructure file. Falling back to using the halo info.\n",
      "pynbody.halo : An error occurred while reading substructure file. Falling back to using the halo info.\n",
      "pynbody.halo : An error occurred while reading substructure file. Falling back to using the halo info.\n",
      "pynbody.halo : An error occurred while reading substructure file. Falling back to using the halo info.\n",
      "pynbody.halo : An error occurred while reading substructure file. Falling back to using the halo info.\n",
      "pynbody.halo : An error occurred while reading substructure file. Falling back to using the halo info.\n",
      "pynbody.halo : An error occurred while reading substructure file. Falling back to using the halo info.\n",
      "pynbody.halo : An error occurred while reading substructure file. Falling back to using the halo info.\n",
      "pynbody.halo : An error occurred while reading substructure file. Falling back to using the halo info.\n",
      "pynbody.halo : An error occurred while reading substructure file. Falling back to using the halo info.\n",
      "pynbody.halo : An error occurred while reading substructure file. Falling back to using the halo info.\n",
      "pynbody.halo : An error occurred while reading substructure file. Falling back to using the halo info.\n",
      "pynbody.halo : An error occurred while reading substructure file. Falling back to using the halo info.\n",
      "pynbody.halo : An error occurred while reading substructure file. Falling back to using the halo info.\n",
      "pynbody.halo : An error occurred while reading substructure file. Falling back to using the halo info.\n",
      "pynbody.halo : An error occurred while reading substructure file. Falling back to using the halo info.\n",
      "pynbody.halo : An error occurred while reading substructure file. Falling back to using the halo info.\n",
      "pynbody.halo : An error occurred while reading substructure file. Falling back to using the halo info.\n",
      "pynbody.halo : An error occurred while reading substructure file. Falling back to using the halo info.\n",
      "pynbody.halo : An error occurred while reading substructure file. Falling back to using the halo info.\n",
      "pynbody.halo : An error occurred while reading substructure file. Falling back to using the halo info.\n",
      "pynbody.halo : An error occurred while reading substructure file. Falling back to using the halo info.\n",
      "pynbody.halo : An error occurred while reading substructure file. Falling back to using the halo info.\n",
      "pynbody.halo : An error occurred while reading substructure file. Falling back to using the halo info.\n",
      "pynbody.halo : An error occurred while reading substructure file. Falling back to using the halo info.\n",
      "pynbody.halo : An error occurred while reading substructure file. Falling back to using the halo info.\n",
      "pynbody.halo : An error occurred while reading substructure file. Falling back to using the halo info.\n",
      "pynbody.halo : An error occurred while reading substructure file. Falling back to using the halo info.\n",
      "pynbody.halo : An error occurred while reading substructure file. Falling back to using the halo info.\n",
      "pynbody.halo : An error occurred while reading substructure file. Falling back to using the halo info.\n",
      "pynbody.halo : An error occurred while reading substructure file. Falling back to using the halo info.\n",
      "pynbody.halo : An error occurred while reading substructure file. Falling back to using the halo info.\n",
      "pynbody.halo : An error occurred while reading substructure file. Falling back to using the halo info.\n",
      "pynbody.halo : An error occurred while reading substructure file. Falling back to using the halo info.\n",
      "pynbody.halo : An error occurred while reading substructure file. Falling back to using the halo info.\n",
      "pynbody.halo : An error occurred while reading substructure file. Falling back to using the halo info.\n",
      "pynbody.halo : An error occurred while reading substructure file. Falling back to using the halo info.\n",
      "pynbody.halo : An error occurred while reading substructure file. Falling back to using the halo info.\n",
      "pynbody.halo : An error occurred while reading substructure file. Falling back to using the halo info.\n",
      "pynbody.halo : An error occurred while reading substructure file. Falling back to using the halo info.\n",
      "pynbody.halo : An error occurred while reading substructure file. Falling back to using the halo info.\n",
      "pynbody.halo : An error occurred while reading substructure file. Falling back to using the halo info.\n",
      "pynbody.halo : An error occurred while reading substructure file. Falling back to using the halo info.\n",
      "pynbody.halo : An error occurred while reading substructure file. Falling back to using the halo info.\n",
      "pynbody.halo : An error occurred while reading substructure file. Falling back to using the halo info.\n",
      "pynbody.halo : An error occurred while reading substructure file. Falling back to using the halo info.\n",
      "pynbody.halo : An error occurred while reading substructure file. Falling back to using the halo info.\n",
      "pynbody.halo : An error occurred while reading substructure file. Falling back to using the halo info.\n",
      "pynbody.halo : An error occurred while reading substructure file. Falling back to using the halo info.\n",
      "pynbody.halo : An error occurred while reading substructure file. Falling back to using the halo info.\n",
      "pynbody.halo : An error occurred while reading substructure file. Falling back to using the halo info.\n",
      "pynbody.halo : An error occurred while reading substructure file. Falling back to using the halo info.\n",
      "pynbody.halo : An error occurred while reading substructure file. Falling back to using the halo info.\n",
      "pynbody.halo : An error occurred while reading substructure file. Falling back to using the halo info.\n",
      "pynbody.halo : An error occurred while reading substructure file. Falling back to using the halo info.\n"
     ]
    }
   ],
   "source": [
    "sim_path = glob.glob('/mnt/storage/_data/nihao/nihao_classic/g?.??e??/g?.??e??.0????')\n",
    "file_path = '../../data/files/'\n",
    "utils.gen_files(sim_path=sim_path, file_path=file_path)"
   ]
  },
  {
   "cell_type": "code",
   "execution_count": 7,
   "metadata": {},
   "outputs": [],
   "source": []
  }
 ],
 "metadata": {
  "kernelspec": {
   "display_name": "Python 3",
   "language": "python",
   "name": "python3"
  },
  "language_info": {
   "codemirror_mode": {
    "name": "ipython",
    "version": 3
   },
   "file_extension": ".py",
   "mimetype": "text/x-python",
   "name": "python",
   "nbconvert_exporter": "python",
   "pygments_lexer": "ipython3",
   "version": "3.10.14"
  }
 },
 "nbformat": 4,
 "nbformat_minor": 2
}
