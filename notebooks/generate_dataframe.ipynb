{
 "cells": [
  {
   "cell_type": "code",
   "execution_count": 1,
   "metadata": {},
   "outputs": [],
   "source": [
    "import CASBI\n",
    "import CASBI.utils as utils\n",
    "import numpy as np"
   ]
  },
  {
   "cell_type": "code",
   "execution_count": 2,
   "metadata": {},
   "outputs": [],
   "source": [
    "file_dir = '../../data/files/'\n",
    "dataframe_path = '../../data/dataframe/'\n",
    "preprocess_path = '../../data/preprocess/'"
   ]
  },
  {
   "cell_type": "markdown",
   "metadata": {},
   "source": [
    "# Creation of array needed for the preprocess and rescaling"
   ]
  },
  {
   "cell_type": "code",
   "execution_count": 3,
   "metadata": {},
   "outputs": [
    {
     "name": "stderr",
     "output_type": "stream",
     "text": [
      "100%|██████████| 5784/5784 [04:56<00:00, 19.48it/s]\n"
     ]
    }
   ],
   "source": [
    "preprocess_file_path = utils.preprocess_setup(file_dir=file_dir, preprocess_dir=preprocess_path)"
   ]
  },
  {
   "cell_type": "markdown",
   "metadata": {},
   "source": [
    "# Creation of the Dataframe "
   ]
  },
  {
   "cell_type": "code",
   "execution_count": 4,
   "metadata": {},
   "outputs": [],
   "source": [
    "data = utils.gen_dataframe(file_dir=file_dir, dataframe_path=dataframe_path, preprocess_file_path=preprocess_file_path)"
   ]
  },
  {
   "cell_type": "code",
   "execution_count": 5,
   "metadata": {},
   "outputs": [
    {
     "data": {
      "text/plain": [
       "4401"
      ]
     },
     "execution_count": 5,
     "metadata": {},
     "output_type": "execute_result"
    }
   ],
   "source": [
    "len(data['Galaxy_name'].unique())"
   ]
  },
  {
   "cell_type": "code",
   "execution_count": 6,
   "metadata": {},
   "outputs": [
    {
     "data": {
      "text/html": [
       "<div>\n",
       "<style scoped>\n",
       "    .dataframe tbody tr th:only-of-type {\n",
       "        vertical-align: middle;\n",
       "    }\n",
       "\n",
       "    .dataframe tbody tr th {\n",
       "        vertical-align: top;\n",
       "    }\n",
       "\n",
       "    .dataframe thead th {\n",
       "        text-align: right;\n",
       "    }\n",
       "</style>\n",
       "<table border=\"1\" class=\"dataframe\">\n",
       "  <thead>\n",
       "    <tr style=\"text-align: right;\">\n",
       "      <th></th>\n",
       "      <th>feh</th>\n",
       "      <th>ofe</th>\n",
       "      <th>star_log10mass</th>\n",
       "      <th>gas_log10mass</th>\n",
       "      <th>dm_log10mass</th>\n",
       "      <th>infall_time</th>\n",
       "      <th>redshift</th>\n",
       "      <th>a</th>\n",
       "      <th>mean_metallicity</th>\n",
       "      <th>mean_FeMassFrac</th>\n",
       "      <th>mean_OMassFrac</th>\n",
       "      <th>std_metallicity</th>\n",
       "      <th>std_FeMassFrac</th>\n",
       "      <th>std_OMassFrac</th>\n",
       "      <th>Galaxy_name</th>\n",
       "    </tr>\n",
       "  </thead>\n",
       "  <tbody>\n",
       "    <tr>\n",
       "      <th>0</th>\n",
       "      <td>-0.555745</td>\n",
       "      <td>0.268817</td>\n",
       "      <td>-0.762074</td>\n",
       "      <td>-0.684708</td>\n",
       "      <td>-1.1711</td>\n",
       "      <td>-1.551327</td>\n",
       "      <td>2.45154</td>\n",
       "      <td>-1.639439</td>\n",
       "      <td>-0.609069</td>\n",
       "      <td>-0.705215</td>\n",
       "      <td>-0.603757</td>\n",
       "      <td>-0.577905</td>\n",
       "      <td>-0.714555</td>\n",
       "      <td>-0.571106</td>\n",
       "      <td>g1.05e11.00096</td>\n",
       "    </tr>\n",
       "    <tr>\n",
       "      <th>1</th>\n",
       "      <td>-1.325020</td>\n",
       "      <td>-0.529865</td>\n",
       "      <td>-0.762074</td>\n",
       "      <td>-0.684708</td>\n",
       "      <td>-1.1711</td>\n",
       "      <td>-1.551327</td>\n",
       "      <td>2.45154</td>\n",
       "      <td>-1.639439</td>\n",
       "      <td>-0.609069</td>\n",
       "      <td>-0.705215</td>\n",
       "      <td>-0.603757</td>\n",
       "      <td>-0.577905</td>\n",
       "      <td>-0.714555</td>\n",
       "      <td>-0.571106</td>\n",
       "      <td>g1.05e11.00096</td>\n",
       "    </tr>\n",
       "    <tr>\n",
       "      <th>2</th>\n",
       "      <td>-2.584877</td>\n",
       "      <td>1.437122</td>\n",
       "      <td>-0.762074</td>\n",
       "      <td>-0.684708</td>\n",
       "      <td>-1.1711</td>\n",
       "      <td>-1.551327</td>\n",
       "      <td>2.45154</td>\n",
       "      <td>-1.639439</td>\n",
       "      <td>-0.609069</td>\n",
       "      <td>-0.705215</td>\n",
       "      <td>-0.603757</td>\n",
       "      <td>-0.577905</td>\n",
       "      <td>-0.714555</td>\n",
       "      <td>-0.571106</td>\n",
       "      <td>g1.05e11.00096</td>\n",
       "    </tr>\n",
       "    <tr>\n",
       "      <th>3</th>\n",
       "      <td>-0.171082</td>\n",
       "      <td>-0.743044</td>\n",
       "      <td>-0.762074</td>\n",
       "      <td>-0.684708</td>\n",
       "      <td>-1.1711</td>\n",
       "      <td>-1.551327</td>\n",
       "      <td>2.45154</td>\n",
       "      <td>-1.639439</td>\n",
       "      <td>-0.609069</td>\n",
       "      <td>-0.705215</td>\n",
       "      <td>-0.603757</td>\n",
       "      <td>-0.577905</td>\n",
       "      <td>-0.714555</td>\n",
       "      <td>-0.571106</td>\n",
       "      <td>g1.05e11.00096</td>\n",
       "    </tr>\n",
       "    <tr>\n",
       "      <th>4</th>\n",
       "      <td>-2.568767</td>\n",
       "      <td>-0.023267</td>\n",
       "      <td>-0.762074</td>\n",
       "      <td>-0.684708</td>\n",
       "      <td>-1.1711</td>\n",
       "      <td>-1.551327</td>\n",
       "      <td>2.45154</td>\n",
       "      <td>-1.639439</td>\n",
       "      <td>-0.609069</td>\n",
       "      <td>-0.705215</td>\n",
       "      <td>-0.603757</td>\n",
       "      <td>-0.577905</td>\n",
       "      <td>-0.714555</td>\n",
       "      <td>-0.571106</td>\n",
       "      <td>g1.05e11.00096</td>\n",
       "    </tr>\n",
       "  </tbody>\n",
       "</table>\n",
       "</div>"
      ],
      "text/plain": [
       "        feh       ofe  star_log10mass  gas_log10mass  dm_log10mass  \\\n",
       "0 -0.555745  0.268817       -0.762074      -0.684708       -1.1711   \n",
       "1 -1.325020 -0.529865       -0.762074      -0.684708       -1.1711   \n",
       "2 -2.584877  1.437122       -0.762074      -0.684708       -1.1711   \n",
       "3 -0.171082 -0.743044       -0.762074      -0.684708       -1.1711   \n",
       "4 -2.568767 -0.023267       -0.762074      -0.684708       -1.1711   \n",
       "\n",
       "   infall_time  redshift         a  mean_metallicity  mean_FeMassFrac  \\\n",
       "0    -1.551327   2.45154 -1.639439         -0.609069        -0.705215   \n",
       "1    -1.551327   2.45154 -1.639439         -0.609069        -0.705215   \n",
       "2    -1.551327   2.45154 -1.639439         -0.609069        -0.705215   \n",
       "3    -1.551327   2.45154 -1.639439         -0.609069        -0.705215   \n",
       "4    -1.551327   2.45154 -1.639439         -0.609069        -0.705215   \n",
       "\n",
       "   mean_OMassFrac  std_metallicity  std_FeMassFrac  std_OMassFrac  \\\n",
       "0       -0.603757        -0.577905       -0.714555      -0.571106   \n",
       "1       -0.603757        -0.577905       -0.714555      -0.571106   \n",
       "2       -0.603757        -0.577905       -0.714555      -0.571106   \n",
       "3       -0.603757        -0.577905       -0.714555      -0.571106   \n",
       "4       -0.603757        -0.577905       -0.714555      -0.571106   \n",
       "\n",
       "      Galaxy_name  \n",
       "0  g1.05e11.00096  \n",
       "1  g1.05e11.00096  \n",
       "2  g1.05e11.00096  \n",
       "3  g1.05e11.00096  \n",
       "4  g1.05e11.00096  "
      ]
     },
     "execution_count": 6,
     "metadata": {},
     "output_type": "execute_result"
    }
   ],
   "source": [
    "data.head()"
   ]
  }
 ],
 "metadata": {
  "kernelspec": {
   "display_name": "Python 3",
   "language": "python",
   "name": "python3"
  },
  "language_info": {
   "codemirror_mode": {
    "name": "ipython",
    "version": 3
   },
   "file_extension": ".py",
   "mimetype": "text/x-python",
   "name": "python",
   "nbconvert_exporter": "python",
   "pygments_lexer": "ipython3",
   "version": "3.10.14"
  }
 },
 "nbformat": 4,
 "nbformat_minor": 2
}
