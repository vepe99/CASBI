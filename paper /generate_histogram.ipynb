{
 "cells": [
  {
   "cell_type": "code",
   "execution_count": null,
   "metadata": {},
   "outputs": [],
   "source": [
    "import CASBI.utils as utils\n",
    "import numpy as np\n",
    "import pandas as pd\n",
    "import matplotlib.pyplot as plt\n",
    "from multiprocessing import Pool\n",
    "\n",
    "\n",
    "if __name__ == '__main__':\n",
    "    file_dir = '../../data/files/'\n",
    "    dataframe_path = '../../data/full_dataframe/dataframe/'\n",
    "    preprocess_path = '../../data/full_dataframe/preprocess/'\n",
    "\n",
    "    data = pd.read_parquet(dataframe_path+'dataframe.parquet')[['feh', 'ofe', 'star_log10mass', 'infall_time', 'Galaxy_name']]\n",
    "    # Get unique galaxy names\n",
    "    galaxy_names = data['Galaxy_name'].unique()\n",
    "    min_feh, max_feh = data['feh'].min(), data['feh'].max()\n",
    "    min_ofe, max_ofe = data['ofe'].min(), data['ofe'].max()\n",
    "    #  Create a multiprocessing Pool\n",
    "    with Pool() as p:\n",
    "        p.starmap(utils.create_histogram.save_histograms, [(name, data, min_feh, max_feh, min_ofe, max_ofe) for name in galaxy_names])"
   ]
  }
 ],
 "metadata": {
  "language_info": {
   "name": "python"
  }
 },
 "nbformat": 4,
 "nbformat_minor": 2
}
