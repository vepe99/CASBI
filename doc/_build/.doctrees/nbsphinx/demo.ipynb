{
 "cells": [
  {
   "cell_type": "markdown",
   "id": "819be38a-921a-485a-8e1f-58daeadc14ac",
   "metadata": {},
   "source": [
    "# Demo of the CASBI package"
   ]
  },
  {
   "cell_type": "markdown",
   "id": "55984bca-1e25-45f9-8c31-ce080b2cdcfb",
   "metadata": {},
   "source": [
    "In the following we will demonstrate the CASBI package. It is currently capable of doing impressive things:"
   ]
  },
  {
   "cell_type": "code",
   "execution_count": 1,
   "id": "89c489c7-9c94-43ee-9696-a4e56681fd8f",
   "metadata": {},
   "outputs": [],
   "source": [
    "import CASBI\n",
    "import CASBI.utils as utils "
   ]
  },
  {
   "cell_type": "code",
   "execution_count": 2,
   "id": "4345abb9",
   "metadata": {},
   "outputs": [
    {
     "name": "stderr",
     "output_type": "stream",
     "text": [
      "W0502 20:32:12.257000 140454990832256 torch/distributed/run.py:757] \n",
      "W0502 20:32:12.257000 140454990832256 torch/distributed/run.py:757] *****************************************\n",
      "W0502 20:32:12.257000 140454990832256 torch/distributed/run.py:757] Setting OMP_NUM_THREADS environment variable for each process to be 1 in default, to avoid your system being overloaded, please further tune the variable for optimal performance in your application as needed. \n",
      "W0502 20:32:12.257000 140454990832256 torch/distributed/run.py:757] *****************************************\n"
     ]
    },
    {
     "name": "stdout",
     "output_type": "stream",
     "text": [
      "2\n",
      "2\n"
     ]
    },
    {
     "name": "stderr",
     "output_type": "stream",
     "text": [
      "[rank0]: Traceback (most recent call last):\n",
      "[rank0]:   File \"/export/home/vgiusepp/miniconda3/envs/test/lib/python3.10/site-packages/CASBI/distributed_training.py\", line 291, in <module>\n",
      "[rank0]:     main(args.save_every, args.total_epochs, args.batch_size)\n",
      "[rank0]:   File \"/export/home/vgiusepp/miniconda3/envs/test/lib/python3.10/site-packages/CASBI/distributed_training.py\", line 268, in main\n",
      "[rank0]:     train_set, val_set, test_set, model, optimizer = load_train_objs()\n",
      "[rank0]:   File \"/export/home/vgiusepp/miniconda3/envs/test/lib/python3.10/site-packages/CASBI/distributed_training.py\", line 219, in load_train_objs\n",
      "[rank0]:     train_set = pd.read_parquet('/export/home/vgiusepp/MW_MH/data/preprocessing_subsample/preprocess_training_set_Galaxy_name_subsample.parquet') # load your dataset\n",
      "[rank0]:   File \"/export/home/vgiusepp/miniconda3/envs/test/lib/python3.10/site-packages/pandas/io/parquet.py\", line 651, in read_parquet\n",
      "[rank0]:     impl = get_engine(engine)\n",
      "[rank0]:   File \"/export/home/vgiusepp/miniconda3/envs/test/lib/python3.10/site-packages/pandas/io/parquet.py\", line 67, in get_engine\n",
      "[rank0]:     raise ImportError(\n",
      "[rank0]: ImportError: Unable to find a usable engine; tried using: 'pyarrow', 'fastparquet'.\n",
      "[rank0]: A suitable version of pyarrow or fastparquet is required for parquet support.\n",
      "[rank0]: Trying to import the above resulted in these errors:\n",
      "[rank0]:  - Missing optional dependency 'pyarrow'. pyarrow is required for parquet support. Use pip or conda to install pyarrow.\n",
      "[rank0]:  - Missing optional dependency 'fastparquet'. fastparquet is required for parquet support. Use pip or conda to install fastparquet.\n",
      "[rank1]: Traceback (most recent call last):\n",
      "[rank1]:   File \"/export/home/vgiusepp/miniconda3/envs/test/lib/python3.10/site-packages/CASBI/distributed_training.py\", line 291, in <module>\n",
      "[rank1]:     main(args.save_every, args.total_epochs, args.batch_size)\n",
      "[rank1]:   File \"/export/home/vgiusepp/miniconda3/envs/test/lib/python3.10/site-packages/CASBI/distributed_training.py\", line 268, in main\n",
      "[rank1]:     train_set, val_set, test_set, model, optimizer = load_train_objs()\n",
      "[rank1]:   File \"/export/home/vgiusepp/miniconda3/envs/test/lib/python3.10/site-packages/CASBI/distributed_training.py\", line 219, in load_train_objs\n",
      "[rank1]:     train_set = pd.read_parquet('/export/home/vgiusepp/MW_MH/data/preprocessing_subsample/preprocess_training_set_Galaxy_name_subsample.parquet') # load your dataset\n",
      "[rank1]:   File \"/export/home/vgiusepp/miniconda3/envs/test/lib/python3.10/site-packages/pandas/io/parquet.py\", line 651, in read_parquet\n",
      "[rank1]:     impl = get_engine(engine)\n",
      "[rank1]:   File \"/export/home/vgiusepp/miniconda3/envs/test/lib/python3.10/site-packages/pandas/io/parquet.py\", line 67, in get_engine\n",
      "[rank1]:     raise ImportError(\n",
      "[rank1]: ImportError: Unable to find a usable engine; tried using: 'pyarrow', 'fastparquet'.\n",
      "[rank1]: A suitable version of pyarrow or fastparquet is required for parquet support.\n",
      "[rank1]: Trying to import the above resulted in these errors:\n",
      "[rank1]:  - Missing optional dependency 'pyarrow'. pyarrow is required for parquet support. Use pip or conda to install pyarrow.\n",
      "[rank1]:  - Missing optional dependency 'fastparquet'. fastparquet is required for parquet support. Use pip or conda to install fastparquet.\n",
      "E0502 20:32:22.343000 140454990832256 torch/distributed/elastic/multiprocessing/api.py:826] failed (exitcode: 1) local_rank: 0 (pid: 2597119) of binary: /export/home/vgiusepp/miniconda3/envs/test/bin/python\n",
      "Traceback (most recent call last):\n",
      "  File \"/export/home/vgiusepp/miniconda3/envs/test/bin/torchrun\", line 8, in <module>\n",
      "    sys.exit(main())\n",
      "  File \"/export/home/vgiusepp/miniconda3/envs/test/lib/python3.10/site-packages/torch/distributed/elastic/multiprocessing/errors/__init__.py\", line 347, in wrapper\n",
      "    return f(*args, **kwargs)\n",
      "  File \"/export/home/vgiusepp/miniconda3/envs/test/lib/python3.10/site-packages/torch/distributed/run.py\", line 879, in main\n",
      "    run(args)\n",
      "  File \"/export/home/vgiusepp/miniconda3/envs/test/lib/python3.10/site-packages/torch/distributed/run.py\", line 870, in run\n",
      "    elastic_launch(\n",
      "  File \"/export/home/vgiusepp/miniconda3/envs/test/lib/python3.10/site-packages/torch/distributed/launcher/api.py\", line 132, in __call__\n",
      "    return launch_agent(self._config, self._entrypoint, list(args))\n",
      "  File \"/export/home/vgiusepp/miniconda3/envs/test/lib/python3.10/site-packages/torch/distributed/launcher/api.py\", line 263, in launch_agent\n",
      "    raise ChildFailedError(\n",
      "torch.distributed.elastic.multiprocessing.errors.ChildFailedError: \n",
      "============================================================\n",
      "/export/home/vgiusepp/miniconda3/envs/test/lib/python3.10/site-packages/CASBI/distributed_training.py FAILED\n",
      "------------------------------------------------------------\n",
      "Failures:\n",
      "[1]:\n",
      "  time      : 2024-05-02_20:32:22\n",
      "  host      : compgpu4.iwr.uni-heidelberg.de\n",
      "  rank      : 1 (local_rank: 1)\n",
      "  exitcode  : 1 (pid: 2597120)\n",
      "  error_file: <N/A>\n",
      "  traceback : To enable traceback see: https://pytorch.org/docs/stable/elastic/errors.html\n",
      "------------------------------------------------------------\n",
      "Root Cause (first observed failure):\n",
      "[0]:\n",
      "  time      : 2024-05-02_20:32:22\n",
      "  host      : compgpu4.iwr.uni-heidelberg.de\n",
      "  rank      : 0 (local_rank: 0)\n",
      "  exitcode  : 1 (pid: 2597119)\n",
      "  error_file: <N/A>\n",
      "  traceback : To enable traceback see: https://pytorch.org/docs/stable/elastic/errors.html\n",
      "============================================================\n"
     ]
    },
    {
     "name": "stdout",
     "output_type": "stream",
     "text": [
      "Script execution failed with error: 1\n"
     ]
    }
   ],
   "source": [
    "utils.distributed_training()"
   ]
  },
  {
   "cell_type": "code",
   "execution_count": null,
   "id": "8f41a47e",
   "metadata": {},
   "outputs": [],
   "source": []
  }
 ],
 "metadata": {
  "kernelspec": {
   "display_name": "Python 3 (ipykernel)",
   "language": "python",
   "name": "python3"
  },
  "language_info": {
   "codemirror_mode": {
    "name": "ipython",
    "version": 3
   },
   "file_extension": ".py",
   "mimetype": "text/x-python",
   "name": "python",
   "nbconvert_exporter": "python",
   "pygments_lexer": "ipython3",
   "version": "3.10.14"
  }
 },
 "nbformat": 4,
 "nbformat_minor": 5
}
